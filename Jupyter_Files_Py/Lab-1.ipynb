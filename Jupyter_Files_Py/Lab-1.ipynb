{
 "cells": [
  {
   "cell_type": "markdown",
   "metadata": {},
   "source": [
    "<a href='https://www.darshan.ac.in/'> <img src='https://www.darshan.ac.in/Content/media/DU_Logo.svg' width=\"250\" height=\"300\"/></a>\n",
    "<pre>\n",
    "<center><b><h1>PDS - 2305CS303</b></center>\n",
    "<center><b><h1>Lab - 1</b></center>    \n",
    "<pre>"
   ]
  },
  {
   "cell_type": "markdown",
   "metadata": {},
   "source": [
    "### Name : Brijesh Rajeshbhai Vadgama\n",
    "\n",
    "### Enrollment No. : 23030501065"
   ]
  },
  {
   "cell_type": "markdown",
   "metadata": {},
   "source": []
  },
  {
   "cell_type": "markdown",
   "metadata": {},
   "source": [
    "### 01) WAP to print “Hello World”"
   ]
  },
  {
   "cell_type": "code",
   "execution_count": 1,
   "metadata": {},
   "outputs": [
    {
     "name": "stdout",
     "output_type": "stream",
     "text": [
      "Hello\n"
     ]
    }
   ],
   "source": [
    "print(\"Hello\")"
   ]
  },
  {
   "cell_type": "markdown",
   "metadata": {},
   "source": [
    "### 02) WAP to print your address i) using single print ii) using multiple print"
   ]
  },
  {
   "cell_type": "code",
   "execution_count": 4,
   "metadata": {},
   "outputs": [
    {
     "name": "stdout",
     "output_type": "stream",
     "text": [
      "Rajlaxmi Society, \n",
      "Haridhava Main Road, \n",
      "Rajkot\n",
      "\n",
      "Rajlaxmi Society,\n",
      "Haridhava Main Road,\n",
      "Rajkot\n"
     ]
    }
   ],
   "source": [
    "print(\"Rajlaxmi Society, \\nHaridhava Main Road, \\nRajkot\")\n",
    "print(\"\\nRajlaxmi Society,\")\n",
    "print(\"Haridhava Main Road,\")\n",
    "print(\"Rajkot\")"
   ]
  },
  {
   "cell_type": "markdown",
   "metadata": {},
   "source": [
    "### 03) WAP to print addition of 2 numbers (without input function)"
   ]
  },
  {
   "cell_type": "code",
   "execution_count": 5,
   "metadata": {},
   "outputs": [
    {
     "name": "stdout",
     "output_type": "stream",
     "text": [
      "15 + 10 = 25\n"
     ]
    }
   ],
   "source": [
    "no1 = 15\n",
    "no2 = 10\n",
    "\n",
    "print(f\"{no1} + {no2} = {no1 + no2}\")"
   ]
  },
  {
   "cell_type": "markdown",
   "metadata": {},
   "source": [
    "### 04) WAP to calculate and print average of 2 numbers (without input function)"
   ]
  },
  {
   "cell_type": "code",
   "execution_count": 6,
   "metadata": {},
   "outputs": [
    {
     "name": "stdout",
     "output_type": "stream",
     "text": [
      "Average of 20 and 25 is 22.5\n"
     ]
    }
   ],
   "source": [
    "no1 = 20\n",
    "no2 = 25\n",
    "\n",
    "print(f\"Average of {no1} and {no2} is {(no1+no2)/2}\")"
   ]
  },
  {
   "cell_type": "markdown",
   "metadata": {},
   "source": [
    "### 05) WAP to add two number entered by user."
   ]
  },
  {
   "cell_type": "code",
   "execution_count": 7,
   "metadata": {},
   "outputs": [
    {
     "name": "stdout",
     "output_type": "stream",
     "text": [
      "Enter Number 1:  10\n",
      "Enter Number 2:  5\n"
     ]
    },
    {
     "name": "stdout",
     "output_type": "stream",
     "text": [
      "10 + 5 = 15\n"
     ]
    }
   ],
   "source": [
    "no1 = int(input(\"Enter Number 1: \"))\n",
    "no2 = int(input(\"Enter Number 2: \"))\n",
    "\n",
    "print(f\"{no1} + {no2} = {no1 + no2}\")"
   ]
  },
  {
   "cell_type": "markdown",
   "metadata": {},
   "source": [
    "### 06) Purposefully raise Indentation Error and Correct it."
   ]
  },
  {
   "cell_type": "code",
   "execution_count": 8,
   "metadata": {},
   "outputs": [
    {
     "name": "stdout",
     "output_type": "stream",
     "text": [
      "value of a is 10\n"
     ]
    }
   ],
   "source": [
    "a = 10\n",
    "if a==10:\n",
    "    print(f\"value of a is {a}\")\n",
    "        # print(\"Error\") # it's generate an indentation error"
   ]
  },
  {
   "cell_type": "markdown",
   "metadata": {},
   "source": [
    "### 07) WAP to calculate simple interest."
   ]
  },
  {
   "cell_type": "code",
   "execution_count": 13,
   "metadata": {},
   "outputs": [
    {
     "name": "stdout",
     "output_type": "stream",
     "text": [
      "Enter Amount:  10000\n",
      "Enter Rate of Interest:  2\n",
      "Enter Number of Years:  1\n"
     ]
    },
    {
     "name": "stdout",
     "output_type": "stream",
     "text": [
      "Simple Interest = 200.0\n"
     ]
    }
   ],
   "source": [
    "p = int(input(\"Enter Amount: \"))\n",
    "r = int(input(\"Enter Rate of Interest: \"))\n",
    "n = int(input(\"Enter Number of Years: \"))\n",
    "\n",
    "print(f\"Simple Interest = {(p * r * n)/100}\")"
   ]
  },
  {
   "cell_type": "markdown",
   "metadata": {},
   "source": [
    "### 08) WAP Calculate Area and Circumfrence of Circle"
   ]
  },
  {
   "cell_type": "code",
   "execution_count": 21,
   "metadata": {},
   "outputs": [
    {
     "name": "stdout",
     "output_type": "stream",
     "text": [
      "Enter r:  5\n"
     ]
    },
    {
     "name": "stdout",
     "output_type": "stream",
     "text": [
      "Area of Circle =  78.50\n",
      "Area of Circumfrence =  31.40\n"
     ]
    }
   ],
   "source": [
    "pi = 3.14\n",
    "r = int(input(\"Enter r: \"))\n",
    "\n",
    "# Area of Circle\n",
    "\n",
    "area_of_circle = pi * r * r\n",
    "print(f\"Area of Circle = {area_of_circle: .2f}\")\n",
    "\n",
    "# Area of Circumfrence\n",
    "\n",
    "area_of_circumfrence = 2*pi*r\n",
    "ans = print(f\"Area of Circumfrence = {area_of_circumfrence: .2f}\")"
   ]
  },
  {
   "cell_type": "markdown",
   "metadata": {},
   "source": [
    "### 09) WAP to print Multiplication table of given number without using loops."
   ]
  },
  {
   "cell_type": "code",
   "execution_count": 6,
   "metadata": {},
   "outputs": [
    {
     "name": "stdout",
     "output_type": "stream",
     "text": [
      "Enter Number to Print Table:  5\n"
     ]
    },
    {
     "name": "stdout",
     "output_type": "stream",
     "text": [
      "5 * 1 = 5\n",
      "5 * 2 = 10\n",
      "5 * 3 = 15\n",
      "5 * 4 = 20\n",
      "5 * 5 = 25\n",
      "5 * 6 = 30\n",
      "5 * 7 = 35\n",
      "5 * 8 = 40\n",
      "5 * 9 = 45\n",
      "5 * 10 = 50\n"
     ]
    },
    {
     "data": {
      "text/plain": [
       "1"
      ]
     },
     "execution_count": 6,
     "metadata": {},
     "output_type": "execute_result"
    }
   ],
   "source": [
    "def table(num,count):\n",
    "    if(count<11):\n",
    "        print(f\"{num} * {count} = {num * count}\")\n",
    "        return table(num,count + 1)\n",
    "    else:\n",
    "        return 1\n",
    "\n",
    "no = int(input(\"Enter Number to Print Table: \"))\n",
    "table(no,1)"
   ]
  },
  {
   "cell_type": "markdown",
   "metadata": {},
   "source": [
    "### 10) WAP to calculate Area of Triangle (hint: a = h * b * 0.5)"
   ]
  },
  {
   "cell_type": "code",
   "execution_count": 23,
   "metadata": {},
   "outputs": [
    {
     "name": "stdout",
     "output_type": "stream",
     "text": [
      "Enter h:  5\n",
      "Enter b:  2\n"
     ]
    },
    {
     "name": "stdout",
     "output_type": "stream",
     "text": [
      "Area of Triangle: 5.0\n"
     ]
    }
   ],
   "source": [
    "h = int(input(\"Enter h: \"))\n",
    "b = int(input(\"Enter b: \"))\n",
    "\n",
    "print(f\"Area of Triangle: {h * b * 0.5}\")"
   ]
  },
  {
   "cell_type": "markdown",
   "metadata": {},
   "source": [
    "### 11) WAP to convert degree to Fahrenheit and vice versa."
   ]
  },
  {
   "cell_type": "code",
   "execution_count": 50,
   "metadata": {},
   "outputs": [
    {
     "name": "stdout",
     "output_type": "stream",
     "text": [
      "1. Convert Celsius to Fahrenheit\n",
      "2. Convert Fahrenheit to Celsius\n"
     ]
    },
    {
     "name": "stdout",
     "output_type": "stream",
     "text": [
      "\n",
      "Enter Your Choice (1 or 2):  1\n",
      "\n",
      "Enter Temperature in Celsius:  20\n"
     ]
    },
    {
     "name": "stdout",
     "output_type": "stream",
     "text": [
      "20.0 degree Celsius = 68.0 degree Fahrenheit\n"
     ]
    }
   ],
   "source": [
    "print(\"1. Convert Celsius to Fahrenheit\")\n",
    "print(\"2. Convert Fahrenheit to Celsius\")\n",
    "\n",
    "choice = int(input(\"\\nEnter Your Choice (1 or 2): \"))\n",
    "\n",
    "if choice == 1:\n",
    "    celsius = float(input(\"\\nEnter Temperature in Celsius: \"))\n",
    "    fahrenheit = (celsius * 9/5) + 32\n",
    "    print(f\"{celsius:.2f} degree Celsius = {fahrenheit:.2f} degree Fahrenheit\")\n",
    "\n",
    "elif choice == 2:\n",
    "    fahrenheit = float(input(\"\\nEnter Temperature in Fahrenheit: \"))\n",
    "    celsius = (fahrenheit - 32) * 5/9\n",
    "    print(f\"{fahrenheit:.2f} degree Fahrenheit = {celsius:.2f} degree Celsius\")\n",
    "\n",
    "else:\n",
    "    print(\"Invalid Choice.!\")\n"
   ]
  },
  {
   "cell_type": "markdown",
   "metadata": {},
   "source": [
    "### 12) WAP to calculate total marks and Percentage."
   ]
  },
  {
   "cell_type": "code",
   "execution_count": 29,
   "metadata": {},
   "outputs": [
    {
     "name": "stdout",
     "output_type": "stream",
     "text": [
      "Enter How Many Subjects Do You Want:  5\n",
      "Enter Mark For Subject 1 95\n",
      "Enter Mark For Subject 2 99\n",
      "Enter Mark For Subject 3 88\n",
      "Enter Mark For Subject 4 96\n",
      "Enter Mark For Subject 5 89\n"
     ]
    },
    {
     "name": "stdout",
     "output_type": "stream",
     "text": [
      "Total Marks = 467\n",
      "Total Percentage = 93.4\n"
     ]
    }
   ],
   "source": [
    "subjects = int(input(\"Enter How Many Subjects Do You Want: \"))\n",
    "\n",
    "marks = []\n",
    "\n",
    "for i in range(subjects):\n",
    "    mark = int(input(f\"Enter Mark For Subject: {i+1}\"))\n",
    "    marks.append(mark)\n",
    "\n",
    "# count total marks \n",
    "total_marks = sum(marks)\n",
    "\n",
    "# count total percentage\n",
    "total_percentage = (total_marks / (subjects * 100)) * 100\n",
    "\n",
    "print(f\"Total Marks = {total_marks}\")\n",
    "print(f\"Total Percentage = {total_percentage}\")"
   ]
  }
 ],
 "metadata": {
  "kernelspec": {
   "display_name": "Python 3 (ipykernel)",
   "language": "python",
   "name": "python3"
  },
  "language_info": {
   "codemirror_mode": {
    "name": "ipython",
    "version": 3
   },
   "file_extension": ".py",
   "mimetype": "text/x-python",
   "name": "python",
   "nbconvert_exporter": "python",
   "pygments_lexer": "ipython3",
   "version": "3.12.4"
  },
  "vscode": {
   "interpreter": {
    "hash": "31f2aee4e71d21fbe5cf8b01ff0e069b9275f58929596ceb00d14d90e3e16cd6"
   }
  }
 },
 "nbformat": 4,
 "nbformat_minor": 4
}
