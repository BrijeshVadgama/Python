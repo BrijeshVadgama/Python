{
 "cells": [
  {
   "cell_type": "markdown",
   "metadata": {},
   "source": [
    "<a href='https://www.darshan.ac.in/'> <img src='https://www.darshan.ac.in/Content/media/DU_Logo.svg' width=\"250\" height=\"300\"/></a>\n",
    "<pre>\n",
    "<center><b><h1>PDS - 2305CS303</b></center>\n",
    "<center><b><h1>Lab - 5</b></center>    \n",
    "<pre>"
   ]
  },
  {
   "cell_type": "markdown",
   "metadata": {},
   "source": [
    "### Name : Brijesh Rajeshbhai Vadgama\r\n",
    "\r\n",
    "### Enrollment No. : 23030501065"
   ]
  },
  {
   "cell_type": "markdown",
   "metadata": {},
   "source": []
  },
  {
   "cell_type": "markdown",
   "metadata": {},
   "source": [
    "# list"
   ]
  },
  {
   "cell_type": "code",
   "execution_count": 2,
   "metadata": {},
   "outputs": [],
   "source": [
    "def enterList():\n",
    "  size = int(input(\"Enter size of list : \"));\n",
    "  l1 = [];\n",
    "  for i in range(0,size):\n",
    "    l1.append((int(input(\"Enter value : \"))));\n",
    "  return l1;"
   ]
  },
  {
   "cell_type": "code",
   "execution_count": null,
   "metadata": {},
   "outputs": [],
   "source": []
  },
  {
   "cell_type": "markdown",
   "metadata": {},
   "source": [
    "### 01) WAP to find sum of all the elements in List."
   ]
  },
  {
   "cell_type": "code",
   "execution_count": 3,
   "metadata": {},
   "outputs": [
    {
     "name": "stdin",
     "output_type": "stream",
     "text": [
      "Enter size of list :  5\n",
      "Enter value :  1\n",
      "Enter value :  2\n",
      "Enter value :  3\n",
      "Enter value :  4\n",
      "Enter value :  5\n"
     ]
    },
    {
     "name": "stdout",
     "output_type": "stream",
     "text": [
      "Sum of list elements :: 15\n"
     ]
    }
   ],
   "source": [
    "l1 = enterList()\n",
    "\n",
    "print(f\"Sum of list elements :: {sum(l1)}\")"
   ]
  },
  {
   "cell_type": "markdown",
   "metadata": {},
   "source": [
    "### 02) WAP to find largest element in a List."
   ]
  },
  {
   "cell_type": "code",
   "execution_count": 24,
   "metadata": {},
   "outputs": [
    {
     "name": "stdin",
     "output_type": "stream",
     "text": [
      "Enter how many elements you want:  5\n",
      "Enter Value 1:  10\n",
      "Enter Value 2:  20\n",
      "Enter Value 3:  50\n",
      "Enter Value 4:  30\n",
      "Enter Value 5:  60\n"
     ]
    },
    {
     "name": "stdout",
     "output_type": "stream",
     "text": [
      "Largest Element in List: 60\n"
     ]
    }
   ],
   "source": [
    "l1 = enterList()\n",
    "\n",
    "print(f\"Largest Element in List: {max(l1)}\")"
   ]
  },
  {
   "cell_type": "markdown",
   "metadata": {},
   "source": [
    "### 03) WAP to split the List into two and append the first part to the end."
   ]
  },
  {
   "cell_type": "code",
   "execution_count": 26,
   "metadata": {},
   "outputs": [
    {
     "name": "stdin",
     "output_type": "stream",
     "text": [
      "Enter how many elements you want:  4\n",
      "Enter Value 1:  1\n",
      "Enter Value 2:  2\n",
      "Enter Value 3:  3\n",
      "Enter Value 4:  4\n",
      "Enter Index to Split:  3\n"
     ]
    },
    {
     "name": "stdout",
     "output_type": "stream",
     "text": [
      "Updated List: [4, 1, 2, 3]\n"
     ]
    }
   ],
   "source": [
    "l1 = enterList()\n",
    "l2 = []\n",
    "\n",
    "splitIndex = int(input(\"Enter Index to Split: \"))\n",
    "\n",
    "l2.extend(l1[splitIndex:])\n",
    "l2.extend(l1[0:splitIndex])\n",
    "\n",
    "print(f\"Updated List: {l2}\")"
   ]
  },
  {
   "cell_type": "markdown",
   "metadata": {},
   "source": [
    "### 04) WAP to interchange first and last elements in list entered by a user."
   ]
  },
  {
   "cell_type": "code",
   "execution_count": 22,
   "metadata": {},
   "outputs": [
    {
     "name": "stdin",
     "output_type": "stream",
     "text": [
      "Enter how many elements you want:  5\n",
      "Enter Value 1:  1\n",
      "Enter Value 2:  2\n",
      "Enter Value 3:  3\n",
      "Enter Value 4:  4\n",
      "Enter Value 5:  5\n"
     ]
    },
    {
     "name": "stdout",
     "output_type": "stream",
     "text": [
      "List after interchanging elements: [5, 2, 3, 4, 1]\n"
     ]
    }
   ],
   "source": [
    "l1 = enterList()\n",
    "\n",
    "l1[0], l1[-1] = l1[-1], l1[0]\n",
    "\n",
    "print(f\"List after interchanging elements: {l1}\")"
   ]
  },
  {
   "cell_type": "markdown",
   "metadata": {},
   "source": [
    "### 05) WAP to interchange the elements on two positions entered by a user."
   ]
  },
  {
   "cell_type": "code",
   "execution_count": 52,
   "metadata": {},
   "outputs": [
    {
     "name": "stdin",
     "output_type": "stream",
     "text": [
      "Enter how many elements you want:  5\n",
      "Enter Value 1:  1\n",
      "Enter Value 2:  2\n",
      "Enter Value 3:  3\n",
      "Enter Value 4:  4\n",
      "Enter Value 5:  5\n",
      "Enter Index 1:  2\n",
      "Enter Index 2:  3\n"
     ]
    },
    {
     "name": "stdout",
     "output_type": "stream",
     "text": [
      "Original List: [1, 2, 3, 4, 5]\n",
      "Updated List: [1, 2, 4, 3, 5]\n"
     ]
    }
   ],
   "source": [
    "l1 = enterList()\n",
    "\n",
    "index1 = int(input(\"Enter Index 1: \"))\n",
    "index2 = int(input(\"Enter Index 2: \"))\n",
    "\n",
    "print(f\"Original List: {l1}\")\n",
    "\n",
    "if (index1 >= 0 and index1 <= len(l1)) and (index2 >= 0 and index2 <= len(l1)):\n",
    "    l1[index1], l1[index2] = l1[index2], l1[index1]\n",
    "    print(f\"Updated List: {l1}\")\n",
    "else:\n",
    "    print(\"Enter List Between 0 to Length of the List\")"
   ]
  },
  {
   "cell_type": "markdown",
   "metadata": {},
   "source": [
    "### 06) WAP to reverses the list entered by user."
   ]
  },
  {
   "cell_type": "code",
   "execution_count": 31,
   "metadata": {},
   "outputs": [
    {
     "name": "stdin",
     "output_type": "stream",
     "text": [
      "Enter how many elements you want:  5\n",
      "Enter Value 1:  1\n",
      "Enter Value 2:  2\n",
      "Enter Value 3:  3\n",
      "Enter Value 4:  4\n",
      "Enter Value 5:  5\n"
     ]
    },
    {
     "name": "stdout",
     "output_type": "stream",
     "text": [
      "Orignal List: [1, 2, 3, 4, 5]\n",
      "List After Reverse: [5, 4, 3, 2, 1]\n"
     ]
    }
   ],
   "source": [
    "l1 = enterList()\n",
    "\n",
    "print(f\"Orignal List: {l1}\")\n",
    "print(f\"List After Reverse: {l1[::-1]}\")"
   ]
  },
  {
   "cell_type": "markdown",
   "metadata": {},
   "source": [
    "### 07) Python program to remove multiple elements from a list using list comprehension"
   ]
  },
  {
   "cell_type": "code",
   "execution_count": 41,
   "metadata": {},
   "outputs": [
    {
     "name": "stdin",
     "output_type": "stream",
     "text": [
      "Enter how many elements you want:  5\n",
      "Enter Value 1:  1\n",
      "Enter Value 2:  2\n",
      "Enter Value 3:  3\n",
      "Enter Value 4:  4\n",
      "Enter Value 5:  5\n"
     ]
    },
    {
     "name": "stdout",
     "output_type": "stream",
     "text": [
      "Enter Index to Remove: \n"
     ]
    },
    {
     "name": "stdin",
     "output_type": "stream",
     "text": [
      "Enter how many elements you want:  2\n",
      "Enter Value 1:  3\n",
      "Enter Value 2:  4\n"
     ]
    },
    {
     "name": "stdout",
     "output_type": "stream",
     "text": [
      "Updated List: [1, 2, 3, 4, 5]\n",
      "Updated List: [3, 4]\n",
      "Updated List: [1, 2, 3]\n"
     ]
    }
   ],
   "source": [
    "l1 = enterList()\n",
    "print(\"Enter Index to Remove: \")\n",
    "if len(l1) > len(l2):\n",
    "    l2 = enterList()\n",
    "    l3 = [l1[i] for i in range(len(l1)) if i not in l2]\n",
    "    print(f\"Updated List: {l1}\")\n",
    "    print(f\"Updated List: {l2}\")\n",
    "    print(f\"Updated List: {l3}\")\n",
    "else:\n",
    "    print(f\"Enter index in 0 to {len(l1)}\")"
   ]
  },
  {
   "cell_type": "markdown",
   "metadata": {},
   "source": [
    "### 08) Create a list from the specified start to end index of another list."
   ]
  },
  {
   "cell_type": "code",
   "execution_count": 47,
   "metadata": {},
   "outputs": [
    {
     "name": "stdin",
     "output_type": "stream",
     "text": [
      "Enter how many elements you want:  5\n",
      "Enter Value 1:  1\n",
      "Enter Value 2:  2\n",
      "Enter Value 3:  3\n",
      "Enter Value 4:  4\n",
      "Enter Value 5:  5\n",
      "Enter Index to Split:  2\n",
      "Enter Index to Split:  5\n"
     ]
    },
    {
     "name": "stdout",
     "output_type": "stream",
     "text": [
      "Updated List: [2, 3, 4, 5]\n"
     ]
    }
   ],
   "source": [
    "l1 = enterList()\n",
    "l2 = []\n",
    "\n",
    "firstIndex = int(input(\"Enter Index to Split: \"))\n",
    "secondIndex = int(input(\"Enter Index to Split: \"))\n",
    "\n",
    "if (index1 >= 0 and index1 <= len(l1)) and (index2 >= 0 and index2 <= len(l1)):\n",
    "    l2.extend(l1[firstIndex-1:secondIndex])\n",
    "\n",
    "print(f\"Updated List: {l2}\")"
   ]
  },
  {
   "cell_type": "markdown",
   "metadata": {},
   "source": [
    "### 09) Input comma separated elements, convert into list and print."
   ]
  },
  {
   "cell_type": "code",
   "execution_count": 51,
   "metadata": {},
   "outputs": [
    {
     "name": "stdin",
     "output_type": "stream",
     "text": [
      "Enter elements by comma seperated values:  hello, world\n"
     ]
    },
    {
     "name": "stdout",
     "output_type": "stream",
     "text": [
      "List Elements: ['hello', 'world']\n"
     ]
    }
   ],
   "source": [
    "values = input(\"Enter elements by comma seperated values: \")\n",
    "\n",
    "l1 = [i.strip() for i in values.split(\",\")]\n",
    "\n",
    "print(f\"List Elements: {l1}\")"
   ]
  },
  {
   "cell_type": "markdown",
   "metadata": {},
   "source": [
    "### 01) WAP to count Even and Odd numbers in a List."
   ]
  },
  {
   "cell_type": "code",
   "execution_count": 54,
   "metadata": {},
   "outputs": [
    {
     "name": "stdin",
     "output_type": "stream",
     "text": [
      "Enter how many elements you want:  5\n",
      "Enter Value 1:  1\n",
      "Enter Value 2:  2\n",
      "Enter Value 3:  3\n",
      "Enter Value 4:  4\n",
      "Enter Value 5:  5\n"
     ]
    },
    {
     "name": "stdout",
     "output_type": "stream",
     "text": [
      "Even Number Count In List: 2\n",
      "Odd Number Count In List: 3\n"
     ]
    }
   ],
   "source": [
    "l1 = enterList()\n",
    "\n",
    "evenCount = 0\n",
    "oddCount = 0\n",
    "\n",
    "for i in l1:\n",
    "    if i % 2 == 0:\n",
    "        evenCount+=1\n",
    "    else:\n",
    "        oddCount+=1\n",
    "\n",
    "print(f\"Even Number Count In List: {evenCount}\")\n",
    "print(f\"Odd Number Count In List: {oddCount}\")"
   ]
  },
  {
   "cell_type": "markdown",
   "metadata": {},
   "source": [
    "### 02) Python program to find N largest and smallest elements from the list"
   ]
  },
  {
   "cell_type": "code",
   "execution_count": 57,
   "metadata": {},
   "outputs": [
    {
     "name": "stdin",
     "output_type": "stream",
     "text": [
      "Enter how many elements you want:  5\n",
      "Enter Value 1:  1\n",
      "Enter Value 2:  50\n",
      "Enter Value 3:  10\n",
      "Enter Value 4:  3\n",
      "Enter Value 5:  5\n",
      "Enter the number of elements to find:  3\n"
     ]
    },
    {
     "name": "stdout",
     "output_type": "stream",
     "text": [
      "The 3 largest elements are: [50, 10, 5]\n",
      "The 3 smallest elements are: [1, 3, 5]\n"
     ]
    }
   ],
   "source": [
    "l1 = enterList()\n",
    "\n",
    "n = int(input(\"Enter the number of elements to find: \"))\n",
    "\n",
    "if n > len(l1):\n",
    "    print(\"N is larger than the list length.\")\n",
    "else:\n",
    "    sorted_l1_desc = sorted(l1, reverse=True)\n",
    "    n_largest = sorted_l1_desc[:n]\n",
    "\n",
    "    sorted_l1_asc = sorted(l1)\n",
    "    n_smallest = sorted_l1_asc[:n]\n",
    "\n",
    "    print(f\"The {n} largest elements are: {n_largest}\")\n",
    "    print(f\"The {n} smallest elements are: {n_smallest}\")"
   ]
  },
  {
   "cell_type": "markdown",
   "metadata": {},
   "source": [
    "### 03) WAP to print duplicates from a list of integers"
   ]
  },
  {
   "cell_type": "code",
   "execution_count": 2,
   "metadata": {},
   "outputs": [
    {
     "name": "stdin",
     "output_type": "stream",
     "text": [
      "Enter integers separated by spaces:  1 2 2 3 5 8 4 1 3 6\n"
     ]
    },
    {
     "name": "stdout",
     "output_type": "stream",
     "text": [
      "Duplicate numbers: [1, 2, 3]\n"
     ]
    }
   ],
   "source": [
    "input_list = list(map(int, input(\"Enter integers separated by spaces: \").split()))\n",
    "count = {}\n",
    "\n",
    "for num in input_list:\n",
    "    if num in count:\n",
    "        count[num] += 1\n",
    "    else:\n",
    "        count[num] = 1\n",
    "\n",
    "duplicates = [num for num, freq in count.items() if freq > 1]\n",
    "\n",
    "if duplicates:\n",
    "    print(\"Duplicate numbers:\", duplicates)\n",
    "else:\n",
    "    print(\"No duplicates found\")"
   ]
  }
 ],
 "metadata": {
  "kernelspec": {
   "display_name": "Python 3 (ipykernel)",
   "language": "python",
   "name": "python3"
  },
  "language_info": {
   "codemirror_mode": {
    "name": "ipython",
    "version": 3
   },
   "file_extension": ".py",
   "mimetype": "text/x-python",
   "name": "python",
   "nbconvert_exporter": "python",
   "pygments_lexer": "ipython3",
   "version": "3.12.4"
  }
 },
 "nbformat": 4,
 "nbformat_minor": 4
}
