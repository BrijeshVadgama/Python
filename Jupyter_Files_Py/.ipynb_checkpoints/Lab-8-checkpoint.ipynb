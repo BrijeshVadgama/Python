{
 "cells": [
  {
   "cell_type": "markdown",
   "metadata": {
    "id": "eJolnUehWxH4"
   },
   "source": []
  },
  {
   "cell_type": "markdown",
   "metadata": {
    "id": "4STvlfm3WxH6"
   },
   "source": [
    "<a href='https://www.darshan.ac.in/'> <img src='https://www.darshan.ac.in/Content/media/DU_Logo.svg' width=\"250\" height=\"300\"/></a>\n",
    "<pre>\n",
    "<center><b><h1>2305CS303 - Python for Data Science</b></center>\n",
    "<center><b><h1>Lab - 8</b></center>    \n",
    "<pre>"
   ]
  },
  {
   "cell_type": "markdown",
   "metadata": {
    "id": "pB8jJqehWxH7"
   },
   "source": [
    "### Name : Brijesh Rajeshbhai Vadgama\r\n",
    "\r\n",
    "### Enrollment No. : 23030501065"
   ]
  },
  {
   "cell_type": "markdown",
   "metadata": {
    "id": "pB8jJqehWxH7"
   },
   "source": []
  },
  {
   "cell_type": "markdown",
   "metadata": {
    "id": "pB8jJqehWxH7"
   },
   "source": [
    "#### import numpy as np"
   ]
  },
  {
   "cell_type": "code",
   "execution_count": 2,
   "metadata": {
    "dotnet_interactive": {
     "language": "csharp"
    },
    "polyglot_notebook": {
     "kernelName": "csharp"
    },
    "vscode": {
     "languageId": "polyglot-notebook"
    }
   },
   "outputs": [],
   "source": [
    "import numpy as np"
   ]
  },
  {
   "cell_type": "code",
   "execution_count": 3,
   "metadata": {},
   "outputs": [
    {
     "name": "stdout",
     "output_type": "stream",
     "text": [
      "['c' 'd' 'e']\n"
     ]
    }
   ],
   "source": [
    "arr = np.array(['a','b','c','d','e','f','g','h'])\n",
    "print(arr[2:5])"
   ]
  },
  {
   "cell_type": "markdown",
   "metadata": {
    "id": "VsckBSY-WxH8"
   },
   "source": [
    "#### Create an array of 10 zeros"
   ]
  },
  {
   "cell_type": "code",
   "execution_count": null,
   "metadata": {
    "dotnet_interactive": {
     "language": "csharp"
    },
    "polyglot_notebook": {
     "kernelName": "csharp"
    },
    "vscode": {
     "languageId": "polyglot-notebook"
    }
   },
   "outputs": [],
   "source": [
    "arr = np.zeros(10)\n",
    "print(arr)"
   ]
  },
  {
   "cell_type": "markdown",
   "metadata": {
    "id": "RizCYmLPWxH_"
   },
   "source": [
    "Output should be = array([0., 0., 0., 0., 0., 0., 0., 0., 0., 0.])"
   ]
  },
  {
   "cell_type": "markdown",
   "metadata": {
    "id": "NJzh35YlWxH_"
   },
   "source": [
    "#### Create an array of 10 ones"
   ]
  },
  {
   "cell_type": "code",
   "execution_count": null,
   "metadata": {
    "dotnet_interactive": {
     "language": "csharp"
    },
    "polyglot_notebook": {
     "kernelName": "csharp"
    },
    "vscode": {
     "languageId": "polyglot-notebook"
    }
   },
   "outputs": [],
   "source": [
    "arr = np.ones(10)\n",
    "print(arr)"
   ]
  },
  {
   "cell_type": "markdown",
   "metadata": {
    "id": "OKITRpvnWxIA"
   },
   "source": [
    "Output should be = array([1., 1., 1., 1., 1., 1., 1., 1., 1., 1.])"
   ]
  },
  {
   "cell_type": "markdown",
   "metadata": {
    "id": "Z59gVAo_WxIB"
   },
   "source": [
    "#### Create an array of 10 fives"
   ]
  },
  {
   "cell_type": "code",
   "execution_count": null,
   "metadata": {
    "dotnet_interactive": {
     "language": "csharp"
    },
    "polyglot_notebook": {
     "kernelName": "csharp"
    },
    "vscode": {
     "languageId": "polyglot-notebook"
    }
   },
   "outputs": [],
   "source": [
    "arr = np.ones(10) * 5\n",
    "print(arr)"
   ]
  },
  {
   "cell_type": "markdown",
   "metadata": {
    "id": "gRV-anBwWxIB"
   },
   "source": [
    "Output should be = array([5., 5., 5., 5., 5., 5., 5., 5., 5., 5.])"
   ]
  },
  {
   "cell_type": "markdown",
   "metadata": {
    "id": "6BTJ4mvBWxIB"
   },
   "source": [
    "#### Create an array of the integers from 10 to 50"
   ]
  },
  {
   "cell_type": "code",
   "execution_count": null,
   "metadata": {
    "dotnet_interactive": {
     "language": "csharp"
    },
    "polyglot_notebook": {
     "kernelName": "csharp"
    },
    "vscode": {
     "languageId": "polyglot-notebook"
    }
   },
   "outputs": [],
   "source": [
    "arr = np.arange(10,51)\n",
    "print(arr)"
   ]
  },
  {
   "cell_type": "markdown",
   "metadata": {
    "id": "hNmeUp0lWxIC"
   },
   "source": [
    "Output should be = array([10, 11, 12, 13, 14, 15, 16, 17, 18, 19, 20, 21, 22, 23, 24, 25, 26,\n",
    "       27, 28, 29, 30, 31, 32, 33, 34, 35, 36, 37, 38, 39, 40, 41, 42, 43,\n",
    "       44, 45, 46, 47, 48, 49, 50])"
   ]
  },
  {
   "cell_type": "markdown",
   "metadata": {
    "id": "sXd6p17mWxIC"
   },
   "source": [
    "#### Create an array of all the even integers from 10 to 50"
   ]
  },
  {
   "cell_type": "code",
   "execution_count": null,
   "metadata": {
    "dotnet_interactive": {
     "language": "csharp"
    },
    "polyglot_notebook": {
     "kernelName": "csharp"
    },
    "vscode": {
     "languageId": "polyglot-notebook"
    }
   },
   "outputs": [],
   "source": [
    "arr = np.arange(10,51,2)\n",
    "print(arr)"
   ]
  },
  {
   "cell_type": "markdown",
   "metadata": {
    "id": "Y7l7CZhIWxID"
   },
   "source": [
    "Output should be = array([10, 12, 14, 16, 18, 20, 22, 24, 26, 28, 30, 32, 34, 36, 38, 40, 42,\n",
    "       44, 46, 48, 50])"
   ]
  },
  {
   "cell_type": "markdown",
   "metadata": {
    "id": "2T3vh7EKWxID"
   },
   "source": [
    "#### Create a 3x3 matrix with values ranging from 0 to 8"
   ]
  },
  {
   "cell_type": "code",
   "execution_count": null,
   "metadata": {
    "dotnet_interactive": {
     "language": "csharp"
    },
    "polyglot_notebook": {
     "kernelName": "csharp"
    },
    "vscode": {
     "languageId": "polyglot-notebook"
    }
   },
   "outputs": [],
   "source": [
    "arr = np.arange(0,9).reshape(3,3)\n",
    "print(arr)"
   ]
  },
  {
   "cell_type": "markdown",
   "metadata": {
    "id": "_M3bszDgWxIE"
   },
   "source": [
    "Output should be = <br/>\n",
    "<pre>array([[0, 1, 2],\n",
    "       [3, 4, 5],\n",
    "       [6, 7, 8]])</pre>"
   ]
  },
  {
   "cell_type": "markdown",
   "metadata": {
    "id": "O-74ZUCmWxIE"
   },
   "source": [
    "#### Create a 3x3 identity matrix"
   ]
  },
  {
   "cell_type": "code",
   "execution_count": null,
   "metadata": {
    "dotnet_interactive": {
     "language": "csharp"
    },
    "polyglot_notebook": {
     "kernelName": "csharp"
    },
    "vscode": {
     "languageId": "polyglot-notebook"
    }
   },
   "outputs": [],
   "source": [
    "arr = np.eye(3)\n",
    "print(arr)"
   ]
  },
  {
   "cell_type": "markdown",
   "metadata": {
    "id": "spACDkVKWxIE"
   },
   "source": [
    "Output should be = <br/>\n",
    "<pre>array([[1., 0., 0.],\n",
    "       [0., 1., 0.],\n",
    "       [0., 0., 1.]])</pre>"
   ]
  },
  {
   "cell_type": "markdown",
   "metadata": {
    "id": "cyW9VHHoWxIF"
   },
   "source": [
    "#### Use NumPy to generate a random number between 0 and 1"
   ]
  },
  {
   "cell_type": "code",
   "execution_count": 4,
   "metadata": {
    "dotnet_interactive": {
     "language": "csharp"
    },
    "polyglot_notebook": {
     "kernelName": "csharp"
    },
    "vscode": {
     "languageId": "polyglot-notebook"
    }
   },
   "outputs": [
    {
     "name": "stdout",
     "output_type": "stream",
     "text": [
      "[0.33407194]\n"
     ]
    }
   ],
   "source": [
    "randomNumber = np.random.rand(1)\n",
    "print(randomNumber)"
   ]
  },
  {
   "cell_type": "markdown",
   "metadata": {
    "id": "9x-hiyOVWxIF"
   },
   "source": [
    "#### Use NumPy to generate an array of 25 random numbers sampled from a standard normal distribution"
   ]
  },
  {
   "cell_type": "code",
   "execution_count": 5,
   "metadata": {
    "dotnet_interactive": {
     "language": "csharp"
    },
    "polyglot_notebook": {
     "kernelName": "csharp"
    },
    "vscode": {
     "languageId": "polyglot-notebook"
    }
   },
   "outputs": [
    {
     "name": "stdout",
     "output_type": "stream",
     "text": [
      "[[0.41263001 0.9789485  0.42595587 0.76638685 0.48234416]\n",
      " [0.31916986 0.26959839 0.60896394 0.01029738 0.04961063]\n",
      " [0.86859538 0.56112139 0.54343115 0.03524955 0.28183939]\n",
      " [0.29292866 0.98184967 0.3311605  0.67593715 0.51483549]\n",
      " [0.37053029 0.03638892 0.01266376 0.30891649 0.0409003 ]]\n"
     ]
    }
   ],
   "source": [
    "randomNumbers = np.random.rand(25).reshape(5,5)\n",
    "print(randomNumbers)"
   ]
  },
  {
   "cell_type": "markdown",
   "metadata": {
    "id": "lenrRYKnWxIF"
   },
   "source": [
    "#### Create the following matrix:"
   ]
  },
  {
   "cell_type": "code",
   "execution_count": null,
   "metadata": {
    "dotnet_interactive": {
     "language": "csharp"
    },
    "polyglot_notebook": {
     "kernelName": "csharp"
    },
    "vscode": {
     "languageId": "polyglot-notebook"
    }
   },
   "outputs": [],
   "source": [
    "mat = np.arange(1,101).reshape(10,10)/100\n",
    "print(mat)"
   ]
  },
  {
   "cell_type": "markdown",
   "metadata": {
    "id": "ca9sMwewWxIG"
   },
   "source": [
    "Output should be = <br/>[[0.01, 0.02, 0.03, 0.04, 0.05, 0.06, 0.07, 0.08, 0.09, 0.1 ],<br/>\n",
    "       [0.11, 0.12, 0.13, 0.14, 0.15, 0.16, 0.17, 0.18, 0.19, 0.2 ],<br/>\n",
    "       [0.21, 0.22, 0.23, 0.24, 0.25, 0.26, 0.27, 0.28, 0.29, 0.3 ],<br/>\n",
    "       [0.31, 0.32, 0.33, 0.34, 0.35, 0.36, 0.37, 0.38, 0.39, 0.4 ],<br/>\n",
    "       [0.41, 0.42, 0.43, 0.44, 0.45, 0.46, 0.47, 0.48, 0.49, 0.5 ],<br/>\n",
    "       [0.51, 0.52, 0.53, 0.54, 0.55, 0.56, 0.57, 0.58, 0.59, 0.6 ],<br/>\n",
    "       [0.61, 0.62, 0.63, 0.64, 0.65, 0.66, 0.67, 0.68, 0.69, 0.7 ],<br/>\n",
    "       [0.71, 0.72, 0.73, 0.74, 0.75, 0.76, 0.77, 0.78, 0.79, 0.8 ],<br/>\n",
    "       [0.81, 0.82, 0.83, 0.84, 0.85, 0.86, 0.87, 0.88, 0.89, 0.9 ],<br/>\n",
    "       [0.91, 0.92, 0.93, 0.94, 0.95, 0.96, 0.97, 0.98, 0.99, 1.  ]]"
   ]
  },
  {
   "cell_type": "markdown",
   "metadata": {
    "id": "k9qZS6_0WxIG"
   },
   "source": [
    "#### Create an array of 20 linearly spaced points between 0 and 1:"
   ]
  },
  {
   "cell_type": "code",
   "execution_count": null,
   "metadata": {
    "dotnet_interactive": {
     "language": "csharp"
    },
    "polyglot_notebook": {
     "kernelName": "csharp"
    },
    "vscode": {
     "languageId": "polyglot-notebook"
    }
   },
   "outputs": [],
   "source": [
    "linArr = np.linspace(0,1,20)\n",
    "print(linArr)"
   ]
  },
  {
   "cell_type": "markdown",
   "metadata": {
    "id": "KHA_K5h1WxIG"
   },
   "source": [
    "array([0.        , 0.05263158, 0.10526316, 0.15789474, 0.21052632,\n",
    "       0.26315789, 0.31578947, 0.36842105, 0.42105263, 0.47368421,\n",
    "       0.52631579, 0.57894737, 0.63157895, 0.68421053, 0.73684211,\n",
    "       0.78947368, 0.84210526, 0.89473684, 0.94736842, 1.        ])"
   ]
  },
  {
   "cell_type": "markdown",
   "metadata": {
    "id": "EwVhyJcAWxIG"
   },
   "source": [
    "## Numpy Indexing and Slicing\n"
   ]
  },
  {
   "cell_type": "code",
   "execution_count": null,
   "metadata": {
    "dotnet_interactive": {
     "language": "csharp"
    },
    "polyglot_notebook": {
     "kernelName": "csharp"
    },
    "vscode": {
     "languageId": "polyglot-notebook"
    }
   },
   "outputs": [],
   "source": [
    "mat = np.arange(1, 26).reshape(5, 5)\n",
    "print(mat)"
   ]
  },
  {
   "cell_type": "markdown",
   "metadata": {
    "id": "vLLxBGITWxIH"
   },
   "source": [
    "Output should be = <br/>\n",
    "<pre>array([[ 1,  2,  3,  4,  5],\n",
    "       [ 6,  7,  8,  9, 10],\n",
    "       [11, 12, 13, 14, 15],\n",
    "       [16, 17, 18, 19, 20],\n",
    "       [21, 22, 23, 24, 25]])</pre>"
   ]
  },
  {
   "cell_type": "code",
   "execution_count": null,
   "metadata": {
    "dotnet_interactive": {
     "language": "csharp"
    },
    "polyglot_notebook": {
     "kernelName": "csharp"
    },
    "vscode": {
     "languageId": "polyglot-notebook"
    }
   },
   "outputs": [],
   "source": [
    "sec = mat[2:,1:]\n",
    "print(sec)"
   ]
  },
  {
   "cell_type": "markdown",
   "metadata": {
    "id": "nPEF6YpAWxIH"
   },
   "source": [
    "Output should be =\n",
    "<pre>array([[12, 13, 14, 15],\n",
    "       [17, 18, 19, 20],\n",
    "       [22, 23, 24, 25]])</pre>"
   ]
  },
  {
   "cell_type": "code",
   "execution_count": null,
   "metadata": {
    "dotnet_interactive": {
     "language": "csharp"
    },
    "polyglot_notebook": {
     "kernelName": "csharp"
    },
    "vscode": {
     "languageId": "polyglot-notebook"
    }
   },
   "outputs": [],
   "source": [
    "ele = mat[3,4]\n",
    "print(ele)"
   ]
  },
  {
   "cell_type": "markdown",
   "metadata": {
    "id": "qSgcz63rWxII"
   },
   "source": [
    "Output should be = 20 (element at specific index)"
   ]
  },
  {
   "cell_type": "code",
   "execution_count": null,
   "metadata": {
    "dotnet_interactive": {
     "language": "csharp"
    },
    "polyglot_notebook": {
     "kernelName": "csharp"
    },
    "vscode": {
     "languageId": "polyglot-notebook"
    }
   },
   "outputs": [],
   "source": [
    "col = mat[:3,1:2]\n",
    "print(col)"
   ]
  },
  {
   "cell_type": "markdown",
   "metadata": {
    "id": "fb_AIbDWWxII"
   },
   "source": [
    "Output should be = <br/>\n",
    "<pre>array([[ 2],\n",
    "       [ 7],\n",
    "       [12]])</pre>"
   ]
  },
  {
   "cell_type": "code",
   "execution_count": null,
   "metadata": {
    "dotnet_interactive": {
     "language": "csharp"
    },
    "polyglot_notebook": {
     "kernelName": "csharp"
    },
    "vscode": {
     "languageId": "polyglot-notebook"
    }
   },
   "outputs": [],
   "source": [
    "row = mat"
   ]
  },
  {
   "cell_type": "markdown",
   "metadata": {
    "id": "i-dYR3ORWxIJ"
   },
   "source": [
    "Output should be = array([21, 22, 23, 24, 25])"
   ]
  },
  {
   "cell_type": "code",
   "execution_count": null,
   "metadata": {
    "dotnet_interactive": {
     "language": "csharp"
    },
    "polyglot_notebook": {
     "kernelName": "csharp"
    },
    "vscode": {
     "languageId": "polyglot-notebook"
    }
   },
   "outputs": [],
   "source": [
    "rows = mat[3:, :]\n",
    "print(rows)"
   ]
  },
  {
   "cell_type": "markdown",
   "metadata": {
    "id": "6ZRhKCYCWxIJ"
   },
   "source": [
    "Output should be =  <br/>\n",
    "<pre>array([[16, 17, 18, 19, 20],\n",
    "       [21, 22, 23, 24, 25]])</pre>"
   ]
  },
  {
   "cell_type": "code",
   "execution_count": null,
   "metadata": {
    "dotnet_interactive": {
     "language": "csharp"
    },
    "polyglot_notebook": {
     "kernelName": "csharp"
    },
    "vscode": {
     "languageId": "polyglot-notebook"
    }
   },
   "outputs": [],
   "source": [
    "row = mat[(mat % 3 == 0) & (mat % 5 != 0)]\n",
    "print(row)"
   ]
  },
  {
   "cell_type": "markdown",
   "metadata": {
    "id": "qJ4ZSRRfWxIK"
   },
   "source": [
    "Print all the number which are divisible by 3 but not by 5<br/>\n",
    "Output should be = [ 3  6  9 12 18 21 24]"
   ]
  },
  {
   "cell_type": "markdown",
   "metadata": {
    "id": "Krjm9wQwWxIK"
   },
   "source": [
    "### Now do the following"
   ]
  },
  {
   "cell_type": "markdown",
   "metadata": {
    "id": "QPg6BR67WxIK"
   },
   "source": [
    "#### Get the sum of all the values in mat"
   ]
  },
  {
   "cell_type": "code",
   "execution_count": null,
   "metadata": {
    "dotnet_interactive": {
     "language": "csharp"
    },
    "polyglot_notebook": {
     "kernelName": "csharp"
    },
    "vscode": {
     "languageId": "polyglot-notebook"
    }
   },
   "outputs": [],
   "source": [
    "sumMat = np.sum(mat)\n",
    "print(sumMat)"
   ]
  },
  {
   "cell_type": "markdown",
   "metadata": {
    "id": "-bmATBl2WxIK"
   },
   "source": [
    "Output should be = 325"
   ]
  },
  {
   "cell_type": "markdown",
   "metadata": {
    "id": "8B_p7oMwWxIK"
   },
   "source": [
    "#### Get the standard deviation of the values in mat"
   ]
  },
  {
   "cell_type": "code",
   "execution_count": null,
   "metadata": {
    "dotnet_interactive": {
     "language": "csharp"
    },
    "polyglot_notebook": {
     "kernelName": "csharp"
    },
    "vscode": {
     "languageId": "polyglot-notebook"
    }
   },
   "outputs": [],
   "source": [
    "stdMat = np.std(mat)\n",
    "print(stdMat)"
   ]
  },
  {
   "cell_type": "markdown",
   "metadata": {
    "id": "MxEU5RyPWxIL"
   },
   "source": [
    "Output should be = 7.211102550927978"
   ]
  },
  {
   "cell_type": "markdown",
   "metadata": {
    "id": "Xcmjwzb-WxIL"
   },
   "source": [
    "#### Get the sum of all the columns in mat"
   ]
  },
  {
   "cell_type": "code",
   "execution_count": null,
   "metadata": {
    "dotnet_interactive": {
     "language": "csharp"
    },
    "polyglot_notebook": {
     "kernelName": "csharp"
    },
    "vscode": {
     "languageId": "polyglot-notebook"
    }
   },
   "outputs": [],
   "source": [
    "sumCol = np.sum(mat, axis=0)\n",
    "print(sumCol)"
   ]
  },
  {
   "cell_type": "markdown",
   "metadata": {
    "id": "H9fR-jYpWxIL"
   },
   "source": [
    "Output should be = array([55, 60, 65, 70, 75])"
   ]
  },
  {
   "cell_type": "markdown",
   "metadata": {
    "collapsed": true,
    "id": "lJaETf_EWxIL",
    "jupyter": {
     "outputs_hidden": true
    }
   },
   "source": [
    "# Nice work, Keep the spark alive"
   ]
  },
  {
   "cell_type": "markdown",
   "metadata": {
    "id": "nxaKw2AmWxIM"
   },
   "source": [
    "================= End of Assignemnt =================="
   ]
  }
 ],
 "metadata": {
  "colab": {
   "provenance": []
  },
  "kernelspec": {
   "display_name": "Python 3 (ipykernel)",
   "language": "python",
   "name": "python3"
  },
  "language_info": {
   "codemirror_mode": {
    "name": "ipython",
    "version": 3
   },
   "file_extension": ".py",
   "mimetype": "text/x-python",
   "name": "python",
   "nbconvert_exporter": "python",
   "pygments_lexer": "ipython3",
   "version": "3.12.4"
  },
  "polyglot_notebook": {
   "kernelInfo": {
    "defaultKernelName": "csharp",
    "items": [
     {
      "aliases": [],
      "name": "csharp"
     }
    ]
   }
  }
 },
 "nbformat": 4,
 "nbformat_minor": 4
}
