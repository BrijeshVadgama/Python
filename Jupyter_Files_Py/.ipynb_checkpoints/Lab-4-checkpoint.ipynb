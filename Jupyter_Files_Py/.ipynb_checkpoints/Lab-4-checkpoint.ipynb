{
 "cells": [
  {
   "cell_type": "markdown",
   "metadata": {},
   "source": [
    "<a href='https://www.darshan.ac.in/'> <img src='https://www.darshan.ac.in/Content/media/DU_Logo.svg' width=\"250\" height=\"300\"/></a>\n",
    "<pre>\n",
    "<center><b><h1>PDS - 2305CS303</b></center>\n",
    "<center><b><h1>Lab - 4</b></center>    \n",
    "<pre>"
   ]
  },
  {
   "cell_type": "markdown",
   "metadata": {},
   "source": [
    "### Name : Brijesh Rajeshbhai Vadgama\r\n",
    "\r\n",
    "### Enrollment No. : 23030501065"
   ]
  },
  {
   "cell_type": "markdown",
   "metadata": {},
   "source": []
  },
  {
   "cell_type": "markdown",
   "metadata": {},
   "source": [
    "# String"
   ]
  },
  {
   "cell_type": "markdown",
   "metadata": {},
   "source": [
    "### 01) WAP to check given string is palindrome or not."
   ]
  },
  {
   "cell_type": "code",
   "execution_count": 2,
   "metadata": {},
   "outputs": [
    {
     "name": "stdin",
     "output_type": "stream",
     "text": [
      "Enter String to check it is Palindrome or not:  madam\n"
     ]
    },
    {
     "name": "stdout",
     "output_type": "stream",
     "text": [
      "madam is Palindrome\n"
     ]
    }
   ],
   "source": [
    "s = input(\"Enter String to check it is Palindrome or not: \")\n",
    "rev = s[::-1]\n",
    "if s == rev:\n",
    "    print(f\"{s} is Palindrome\")\n",
    "else:\n",
    "    print(f\"{s} is not Palindrome\")"
   ]
  },
  {
   "cell_type": "markdown",
   "metadata": {},
   "source": [
    "### 02) WAP to reverse the words in given string."
   ]
  },
  {
   "cell_type": "code",
   "execution_count": 22,
   "metadata": {},
   "outputs": [
    {
     "name": "stdin",
     "output_type": "stream",
     "text": [
      "Enter String:  abc def\n"
     ]
    },
    {
     "name": "stdout",
     "output_type": "stream",
     "text": [
      "['abc', 'def']\n",
      "cba fed\n"
     ]
    }
   ],
   "source": [
    "s = input(\"Enter String: \")\n",
    "words = s.split(\" \")\n",
    "print(words)\n",
    "for i in range(0, len(words)):\n",
    "    words[i] = words[i][::-1]\n",
    "print(\" \".join(words))"
   ]
  },
  {
   "cell_type": "markdown",
   "metadata": {},
   "source": [
    "### 03) WAP to remove ith character from given string"
   ]
  },
  {
   "cell_type": "code",
   "execution_count": 37,
   "metadata": {},
   "outputs": [
    {
     "name": "stdin",
     "output_type": "stream",
     "text": [
      "Enter a string:  abc def\n",
      "Enter a Character:  b\n"
     ]
    },
    {
     "name": "stdout",
     "output_type": "stream",
     "text": [
      "ac def\n"
     ]
    }
   ],
   "source": [
    "s = input(\"Enter a string: \")\n",
    "c = input(\"Enter a Character: \")\n",
    "i = s.index(c)\n",
    "s = s[:i] + s[i + 1 :]\n",
    "print(s)"
   ]
  },
  {
   "cell_type": "markdown",
   "metadata": {},
   "source": [
    "### 04) WAP to find length of String without using len function."
   ]
  },
  {
   "cell_type": "code",
   "execution_count": 34,
   "metadata": {},
   "outputs": [
    {
     "name": "stdin",
     "output_type": "stream",
     "text": [
      "Enter String:  abc def\n"
     ]
    },
    {
     "name": "stdout",
     "output_type": "stream",
     "text": [
      "6\n"
     ]
    }
   ],
   "source": [
    "s = input(\"Enter String: \")\n",
    "count = 0\n",
    "for word in s:\n",
    "    if word == \" \":\n",
    "        continue\n",
    "    else:\n",
    "        count+=1\n",
    "print(count)"
   ]
  },
  {
   "cell_type": "markdown",
   "metadata": {},
   "source": [
    "### 05) WAP to print even length word in string."
   ]
  },
  {
   "cell_type": "code",
   "execution_count": 41,
   "metadata": {},
   "outputs": [
    {
     "name": "stdin",
     "output_type": "stream",
     "text": [
      "Enter String:  abc deff\n"
     ]
    },
    {
     "name": "stdout",
     "output_type": "stream",
     "text": [
      "deff\n"
     ]
    }
   ],
   "source": [
    "s = input(\"Enter String: \")\n",
    "evenCount = 0\n",
    "\n",
    "words = s.split(\" \")\n",
    "for word in words:\n",
    "    if len(word) % 2 == 0:\n",
    "        print(word)"
   ]
  },
  {
   "cell_type": "markdown",
   "metadata": {},
   "source": [
    "### 06) WAP to count numbers of vowels in given string."
   ]
  },
  {
   "cell_type": "code",
   "execution_count": 48,
   "metadata": {},
   "outputs": [
    {
     "name": "stdin",
     "output_type": "stream",
     "text": [
      "Enter String:  abcdeE\n"
     ]
    },
    {
     "name": "stdout",
     "output_type": "stream",
     "text": [
      "Total Vowels in String: 3\n"
     ]
    }
   ],
   "source": [
    "s = input(\"Enter String: \").lower()\n",
    "v = \"aeiou\"\n",
    "count = 0\n",
    "for word in s:\n",
    "    if word in v:\n",
    "        count+=1\n",
    "print(f\"Total Vowels in String: {count}\")"
   ]
  },
  {
   "cell_type": "markdown",
   "metadata": {},
   "source": [
    "### 07) WAP to convert given array to string."
   ]
  },
  {
   "cell_type": "code",
   "execution_count": 55,
   "metadata": {},
   "outputs": [
    {
     "name": "stdin",
     "output_type": "stream",
     "text": [
      "Enter How Many Array Elements Do You Want:  2\n",
      "Enter Element 1:  abc\n",
      "Enter Element 2:  def\n"
     ]
    },
    {
     "name": "stdout",
     "output_type": "stream",
     "text": [
      "['abc', 'def']\n",
      "abc def\n"
     ]
    }
   ],
   "source": [
    "s = int(input(\"Enter How Many Array Elements Do You Want: \"))\n",
    "l1 = []\n",
    "for i in range(s):\n",
    "    l1.append(input(f\"Enter Element {i+1}: \"))\n",
    "print(l1)\n",
    "print(\" \".join(l1))"
   ]
  },
  {
   "cell_type": "markdown",
   "metadata": {},
   "source": [
    "### 01) WAP to find out duplicate characters in given string."
   ]
  },
  {
   "cell_type": "code",
   "execution_count": 62,
   "metadata": {},
   "outputs": [
    {
     "name": "stdin",
     "output_type": "stream",
     "text": [
      "Enter String:  aabcdd\n"
     ]
    },
    {
     "name": "stdout",
     "output_type": "stream",
     "text": [
      "\n",
      "Duplication Characters: \n",
      "a\n",
      "d\n"
     ]
    }
   ],
   "source": [
    "s = input(\"Enter String: \")\n",
    "count = {}\n",
    "for char in s:\n",
    "    if char == \" \":\n",
    "        continue\n",
    "    elif char in count:\n",
    "        count[char] += 1\n",
    "    else:\n",
    "        count[char] = 1\n",
    "print(\"\\nDuplication Characters: \")\n",
    "for char in count:\n",
    "    if count[char] > 1:\n",
    "        print(char)"
   ]
  },
  {
   "cell_type": "markdown",
   "metadata": {},
   "source": [
    "### 02) WAP to capitalize the first and last character of each word in a string."
   ]
  },
  {
   "cell_type": "code",
   "execution_count": 71,
   "metadata": {},
   "outputs": [
    {
     "name": "stdin",
     "output_type": "stream",
     "text": [
      "Enter a string:  hello world\n"
     ]
    },
    {
     "name": "stdout",
     "output_type": "stream",
     "text": [
      "hello world\n",
      "HellO WorlD \n"
     ]
    }
   ],
   "source": [
    "str = input(\"Enter a string: \")\n",
    "print(str)\n",
    "str = str.title()\n",
    "str = str.split()\n",
    "string = \"\"\n",
    "for i in str:\n",
    "    string += i[:-1] + i[-1].upper() + \" \"\n",
    "print(string)"
   ]
  },
  {
   "cell_type": "markdown",
   "metadata": {},
   "source": [
    "### 03) WAP to find Maximum frequency character in String."
   ]
  },
  {
   "cell_type": "code",
   "execution_count": 2,
   "metadata": {},
   "outputs": [
    {
     "name": "stdin",
     "output_type": "stream",
     "text": [
      "Enter a string:  brijesh vadgama\n"
     ]
    },
    {
     "name": "stdout",
     "output_type": "stream",
     "text": [
      "{'b': 1, 'r': 1, 'i': 1, 'j': 1, 'e': 1, 's': 1, 'h': 1, 'v': 1, 'a': 3, 'd': 1, 'g': 1, 'm': 1}\n",
      "a == 3\n"
     ]
    }
   ],
   "source": [
    "str_input = input(\"Enter a string: \")\n",
    "count = {}\n",
    "\n",
    "# Counting the frequency of characters\n",
    "for char in str_input:\n",
    "    if char == \" \":  # Skip spaces\n",
    "        continue\n",
    "    if char in count:\n",
    "        count[char] += 1\n",
    "    else:\n",
    "        count[char] = 1\n",
    "\n",
    "# Print the frequency dictionary\n",
    "print(count)\n",
    "\n",
    "# Find the maximum frequency\n",
    "max_freq = max(count.values())\n",
    "\n",
    "# Print the characters with the maximum frequency\n",
    "for char, freq in count.items():\n",
    "    if freq == max_freq:\n",
    "        print(f\"{char} == {max_freq}\")"
   ]
  },
  {
   "cell_type": "markdown",
   "metadata": {},
   "source": [
    "### 04) WAP to find Minimum frequency character in String."
   ]
  },
  {
   "cell_type": "code",
   "execution_count": 4,
   "metadata": {},
   "outputs": [
    {
     "name": "stdin",
     "output_type": "stream",
     "text": [
      "Enter a string:  brijesh vadgama\n"
     ]
    },
    {
     "name": "stdout",
     "output_type": "stream",
     "text": [
      "{'b': 1, 'r': 1, 'i': 1, 'j': 1, 'e': 1, 's': 1, 'h': 1, 'v': 1, 'a': 3, 'd': 1, 'g': 1, 'm': 1}\n",
      "b == 1\n",
      "r == 1\n",
      "i == 1\n",
      "j == 1\n",
      "e == 1\n",
      "s == 1\n",
      "h == 1\n",
      "v == 1\n",
      "d == 1\n",
      "g == 1\n",
      "m == 1\n"
     ]
    }
   ],
   "source": [
    "str_input = input(\"Enter a string: \")\n",
    "count = {}\n",
    "\n",
    "# Counting the frequency of characters\n",
    "for char in str_input:\n",
    "    if char == \" \":  # Skip spaces\n",
    "        continue\n",
    "    if char in count:\n",
    "        count[char] += 1\n",
    "    else:\n",
    "        count[char] = 1\n",
    "\n",
    "# Print the frequency dictionary\n",
    "print(count)\n",
    "\n",
    "# Find the minimum frequency\n",
    "min_freq = min(count.values())\n",
    "\n",
    "# Print the characters with the minimum frequency\n",
    "for char, freq in count.items():\n",
    "    if freq == min_freq:\n",
    "        print(f\"{char} == {min_freq}\")"
   ]
  },
  {
   "cell_type": "markdown",
   "metadata": {},
   "source": [
    "### 05) WAP to check if a given string is binary string or not"
   ]
  },
  {
   "cell_type": "code",
   "execution_count": 68,
   "metadata": {},
   "outputs": [
    {
     "name": "stdin",
     "output_type": "stream",
     "text": [
      "Enter String:  01100101\n"
     ]
    },
    {
     "name": "stdout",
     "output_type": "stream",
     "text": [
      "Given String is Binary\n"
     ]
    }
   ],
   "source": [
    "s = input(\"Enter String: \")\n",
    "is_binary = True\n",
    "\n",
    "for char in s:\n",
    "    if char not in {\"0\",\"1\"}:\n",
    "        is_binary = False\n",
    "        break\n",
    "if is_binary:\n",
    "    print(\"Given String is Binary\")\n",
    "else:\n",
    "    print(\"Given String is not Binary\")"
   ]
  }
 ],
 "metadata": {
  "kernelspec": {
   "display_name": "Python 3 (ipykernel)",
   "language": "python",
   "name": "python3"
  },
  "language_info": {
   "codemirror_mode": {
    "name": "ipython",
    "version": 3
   },
   "file_extension": ".py",
   "mimetype": "text/x-python",
   "name": "python",
   "nbconvert_exporter": "python",
   "pygments_lexer": "ipython3",
   "version": "3.12.4"
  },
  "vscode": {
   "interpreter": {
    "hash": "31f2aee4e71d21fbe5cf8b01ff0e069b9275f58929596ceb00d14d90e3e16cd6"
   }
  }
 },
 "nbformat": 4,
 "nbformat_minor": 4
}
