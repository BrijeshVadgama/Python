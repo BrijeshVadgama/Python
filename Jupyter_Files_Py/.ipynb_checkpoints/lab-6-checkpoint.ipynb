{
 "cells": [
  {
   "attachments": {},
   "cell_type": "markdown",
   "metadata": {},
   "source": [
    "<a href='https://www.darshan.ac.in/'> <img src='https://www.darshan.ac.in/Content/media/DU_Logo.svg' width=\"250\" height=\"300\"/></a>\n",
    "<pre>\n",
    "<center><b><h1>2305CS303 - Python for Data Science</b></center>\n",
    "<center><b><h1>Lab - 6</b></center>    \n",
    "<pre>"
   ]
  },
  {
   "cell_type": "markdown",
   "metadata": {},
   "source": [
    "### Name : Brijesh Rajeshbhai Vadgama\r\n",
    "\r\n",
    "### Enrollment No. : 23030501065"
   ]
  },
  {
   "cell_type": "markdown",
   "metadata": {},
   "source": []
  },
  {
   "cell_type": "markdown",
   "metadata": {},
   "source": [
    "# Tuples, dictionary, set"
   ]
  },
  {
   "cell_type": "markdown",
   "metadata": {},
   "source": [
    "# A"
   ]
  },
  {
   "cell_type": "markdown",
   "metadata": {},
   "source": [
    "### 01) WAP to sort python dictionary by key or value."
   ]
  },
  {
   "cell_type": "code",
   "execution_count": 11,
   "metadata": {},
   "outputs": [
    {
     "name": "stdin",
     "output_type": "stream",
     "text": [
      "Enter Size Of Dictionary:  3\n",
      "Enter Key:  5\n",
      "Enter Value:  10\n",
      "Enter Key:  6\n",
      "Enter Value:  30\n",
      "Enter Key:  2\n",
      "Enter Value:  10\n"
     ]
    },
    {
     "name": "stdout",
     "output_type": "stream",
     "text": [
      "{5: 10, 6: 30, 2: 10}\n",
      "[(2, 10), (5, 10), (6, 30)]\n"
     ]
    }
   ],
   "source": [
    "dic = {}\n",
    "size = int(input(\"Enter Size Of Dictionary: \"))\n",
    "for i in range(0,size):\n",
    "    key = int(input(\"Enter Key: \"))\n",
    "    value = int(input(\"Enter Value: \"))\n",
    "    dic[key] = value\n",
    "print(dic)\n",
    "print(sorted(dic.items()))"
   ]
  },
  {
   "cell_type": "markdown",
   "metadata": {},
   "source": [
    "### 02) WAP to merge two dictionaries given by user."
   ]
  },
  {
   "cell_type": "code",
   "execution_count": 21,
   "metadata": {},
   "outputs": [
    {
     "name": "stdin",
     "output_type": "stream",
     "text": [
      "Enter Size Of Dictionary 1:  2\n",
      "Enter Key:  1\n",
      "Enter Value:  10\n",
      "Enter Key:  2\n",
      "Enter Value:  20\n"
     ]
    },
    {
     "name": "stdout",
     "output_type": "stream",
     "text": [
      "{1: 10, 2: 20}\n"
     ]
    },
    {
     "name": "stdin",
     "output_type": "stream",
     "text": [
      "Enter Size Of Dictionary 2:  2\n",
      "Enter Key:  3\n",
      "Enter Value:  30\n",
      "Enter Key:  4\n",
      "Enter Value:  40\n"
     ]
    },
    {
     "name": "stdout",
     "output_type": "stream",
     "text": [
      "{3: 30, 4: 40}\n",
      "{1: 10, 2: 20, 3: 30, 4: 40}\n"
     ]
    }
   ],
   "source": [
    "dic1 = {}\n",
    "dic2 = {}\n",
    "size1 = int(input(\"Enter Size Of Dictionary 1: \"))\n",
    "for i in range(0,size1):\n",
    "    key1 = int(input(\"Enter Key: \"))\n",
    "    value1 = int(input(\"Enter Value: \"))\n",
    "    dic1[key1] = value1\n",
    "print(dic1)\n",
    "\n",
    "size2 = int(input(\"Enter Size Of Dictionary 2: \"))\n",
    "for i in range(0,size2):\n",
    "    key2 = int(input(\"Enter Key: \"))\n",
    "    value2 = int(input(\"Enter Value: \"))\n",
    "    dic2[key2] = value2\n",
    "print(dic2)\n",
    "\n",
    "dic1.update(dic2)\n",
    "print(dic1)"
   ]
  },
  {
   "cell_type": "markdown",
   "metadata": {},
   "source": [
    "### 03) WAP to find tuples that have all elements divisible by K from a list of tuples."
   ]
  },
  {
   "cell_type": "code",
   "execution_count": 54,
   "metadata": {},
   "outputs": [
    {
     "name": "stdin",
     "output_type": "stream",
     "text": [
      "Enter K:  4\n"
     ]
    },
    {
     "name": "stdout",
     "output_type": "stream",
     "text": [
      "Tuple Element Which is Divided By 4\n",
      "12\n",
      "8\n",
      "16\n"
     ]
    }
   ],
   "source": [
    "t = [(12,8,16),(1,13,15),(25,5,50)]\n",
    "k = int(input(\"Enter K: \"))\n",
    "print(f\"Tuple Element Which is Divided By {k}\")\n",
    "for i in t:\n",
    "    for j in i:\n",
    "        f=0\n",
    "        if j % k != 0:\n",
    "            f=1\n",
    "            break\n",
    "        if f == 0:\n",
    "            print(j)"
   ]
  },
  {
   "cell_type": "markdown",
   "metadata": {},
   "source": [
    "### 04) WAP to find Tuples with positive elements in List of tuples."
   ]
  },
  {
   "cell_type": "code",
   "execution_count": 73,
   "metadata": {},
   "outputs": [
    {
     "name": "stdout",
     "output_type": "stream",
     "text": [
      "[(5, 4, 2), (2, 6, 1)]\n"
     ]
    }
   ],
   "source": [
    "t = [(-1,2,3),(5,4,2),(2,6,1)]\n",
    "l = []\n",
    "for i in t:\n",
    "    for j in i:\n",
    "        f = 0\n",
    "        if j <= 0:\n",
    "            f = 1\n",
    "            break\n",
    "    if f == 0:\n",
    "        l.append(i)\n",
    "print(l)"
   ]
  },
  {
   "cell_type": "markdown",
   "metadata": {},
   "source": [
    "### 05) WAP which perform union of two sets."
   ]
  },
  {
   "cell_type": "code",
   "execution_count": 40,
   "metadata": {},
   "outputs": [
    {
     "name": "stdout",
     "output_type": "stream",
     "text": [
      "{1, 2, 3, 4, 5, 6, 7}\n"
     ]
    }
   ],
   "source": [
    "t1 = {1,2,3,4,5}\n",
    "t2 = {3,4,5,6,7}\n",
    "print(t1.union(t2))"
   ]
  },
  {
   "cell_type": "markdown",
   "metadata": {},
   "source": [
    "# B"
   ]
  },
  {
   "cell_type": "markdown",
   "metadata": {},
   "source": [
    "### 01) WAP to convert binary tuple into integer."
   ]
  },
  {
   "cell_type": "code",
   "execution_count": 1,
   "metadata": {},
   "outputs": [
    {
     "name": "stdout",
     "output_type": "stream",
     "text": [
      "Binary to Integer: 9\n"
     ]
    }
   ],
   "source": [
    "t = (1,0,0,1)\n",
    "dec = 0\n",
    "length = len(t) - 1\n",
    "for i in t:\n",
    "    dec += i * (2**length)\n",
    "    length -= 1\n",
    "print(f\"Binary to Integer: {dec}\")"
   ]
  },
  {
   "cell_type": "markdown",
   "metadata": {},
   "source": [
    "### 02) WAP to count frequency in list by dictionary."
   ]
  },
  {
   "cell_type": "code",
   "execution_count": 2,
   "metadata": {},
   "outputs": [
    {
     "name": "stdin",
     "output_type": "stream",
     "text": [
      "Enter integers separated by spaces:  1 2 5 1 3 6 8 4 5 2 1\n"
     ]
    },
    {
     "name": "stdout",
     "output_type": "stream",
     "text": [
      "Frequency of each element: {1: 3, 2: 2, 5: 2, 3: 1, 6: 1, 8: 1, 4: 1}\n"
     ]
    }
   ],
   "source": [
    "input_list = list(map(int, input(\"Enter integers separated by spaces: \").split()))\n",
    "count = {}\n",
    "\n",
    "for num in input_list:\n",
    "    if num in count:\n",
    "        count[num] += 1\n",
    "    else:\n",
    "        count[num] = 1\n",
    "print(\"Frequency of each element:\", count)"
   ]
  },
  {
   "cell_type": "markdown",
   "metadata": {},
   "source": [
    "### 03) WAP to remove all the duplicate words from the list using dictionary."
   ]
  },
  {
   "cell_type": "code",
   "execution_count": 3,
   "metadata": {},
   "outputs": [
    {
     "name": "stdin",
     "output_type": "stream",
     "text": [
      "Enter words separated by spaces:  hello world hello python hello programming \n"
     ]
    },
    {
     "name": "stdout",
     "output_type": "stream",
     "text": [
      "List after removing duplicates: ['hello', 'world', 'python', 'programming']\n"
     ]
    }
   ],
   "source": [
    "input_list = input(\"Enter words separated by spaces: \").split()\n",
    "count = {}\n",
    "\n",
    "for word in input_list:\n",
    "    if word not in count:\n",
    "        count[word] = 1 \n",
    "unique_words = list(count.keys())\n",
    "print(\"List after removing duplicates:\", unique_words)"
   ]
  }
 ],
 "metadata": {
  "kernelspec": {
   "display_name": "Python 3 (ipykernel)",
   "language": "python",
   "name": "python3"
  },
  "language_info": {
   "codemirror_mode": {
    "name": "ipython",
    "version": 3
   },
   "file_extension": ".py",
   "mimetype": "text/x-python",
   "name": "python",
   "nbconvert_exporter": "python",
   "pygments_lexer": "ipython3",
   "version": "3.12.4"
  }
 },
 "nbformat": 4,
 "nbformat_minor": 4
}
