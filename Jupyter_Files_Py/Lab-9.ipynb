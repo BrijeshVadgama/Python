{
 "cells": [
  {
   "cell_type": "markdown",
   "metadata": {},
   "source": [
    "<a href='https://www.darshan.ac.in/'> <img src='https://www.darshan.ac.in/Content/media/DU_Logo.svg' width=\"250\" height=\"300\"/></a>\n",
    "<pre>\n",
    "<center><b><h1>PDS - 2305CS303</b></center>\n",
    "<center><b><h1>Lab - 9</b></center>    \n",
    "<pre>"
   ]
  },
  {
   "cell_type": "markdown",
   "metadata": {},
   "source": [
    "### Name : Brijesh Rajeshbhai Vadgama\r\n",
    "\r\n",
    "### Enrollment No. : 23030501065"
   ]
  },
  {
   "cell_type": "markdown",
   "metadata": {},
   "source": []
  },
  {
   "cell_type": "markdown",
   "metadata": {},
   "source": [
    "### 01) Scrap the data of Faculty and news data from darshan university website."
   ]
  },
  {
   "cell_type": "code",
   "execution_count": 5,
   "metadata": {},
   "outputs": [
    {
     "name": "stdout",
     "output_type": "stream",
     "text": [
      "Prof. Dipak Jivani |------| Ph.D (Pursuing), M.Tech. (CASAD), B.E. (Civil) |------| 16 + years\n",
      "Prof. Mansukh Barasara |------| M.E. (Civil), B.E. (Civil) |------| 37 + years\n",
      "Dr. Ujjval Solanki |------| Ph.D., M.Tech. (Transportation Engineering), B.E. (Civil, AM... |------| 34 + years\n",
      "Prof. Kaushik Koradia |------| Ph.D (Pursuing), M.E. (Structure), B.E. (Civil) |------| 22 + years\n",
      "Prof. Vitrag Dholakia |------| M.Sc. (Microbiology), B.Sc. (Microbiology), B.Ed |------| 16 + years\n",
      "Prof. Chetan Solanki |------| M.E. (Structure), B.E. (Civil), Diploma (Civil) |------| 12 + years\n",
      "Prof. Mehulkumar Chavda |------| M.Tech (SMFE), BE Civil |------| 15 + years\n",
      "Prof. Milan Gohel |------| M.E. (Chemical), B.E. (Chemical), Diploma (Chemical) |------| 10 + years\n",
      "Prof. Chintan Raichura |------| Ph.D (Pursuing), M.Tech. (Construction Technology), B.E. (Ci... |------| 8 + years\n",
      "Mr. Maulik Joshi |------| M.E. (WREM), B.E. (Civil) |------| 10 + years\n",
      "Prof. Ketan Abhani |------| Ph.D (Pursuing), M.E. (Structure), B.E. (Civil) |------| 6 + years\n",
      "Prof. Sagar Galani |------| B.E. (Civil) |------| 8 + years\n",
      "Mr. Rakesh Kanzariya |------| B. E. (Civil) |------| 7 + years\n"
     ]
    }
   ],
   "source": [
    "# show faculties whose experience is greater than 5 year\n",
    "\n",
    "req = requests.get(\"https://darshan.ac.in/faculty-list/btech-civil\");\n",
    "soup = bs4.BeautifulSoup(req.text, 'lxml');\n",
    "# print(soup);\n",
    "\n",
    "data = soup.select(\"h2\");\n",
    "# print(data);\n",
    "# for d in data:\n",
    "#   print(d.text.strip());\n",
    "\n",
    "data = soup.select(\"body > main > div:nth-child(5) > div > div > div > div > div\");\n",
    "#body > main > div:nth-child(5) > div > div > div > div > div:nth-child(1) > div > div > div:nth-child(3) > div > div.row.text-center.g-mb-20.no-gutters > div > span.btn.btn-sm.g-bg-blue-opacity-0_1.g-color-blue.g-font-weight-700.g-font-size-12\n",
    "\n",
    "for f in data[:-1]:\n",
    "  name = f.select(\"h2\");\n",
    "  a = f.select(\"span\");\n",
    "  exp = a[3].text.strip().split('+');\n",
    "\n",
    "  print(name[0].text.strip(),\"|------|\",a[1].text.strip(),\"|------|\",exp[0],\"+ years\") if int(exp[0]) > 5  else \"\";"
   ]
  },
  {
   "cell_type": "code",
   "execution_count": 6,
   "metadata": {},
   "outputs": [
    {
     "name": "stdout",
     "output_type": "stream",
     "text": [
      "09 Sep 2024 |------------| Technical Minor Project Exhibition\n",
      "05 Sep 2024 |------------| 5th semester diploma civil engineering students visited hostel construction site at darshan universi\n",
      "20 Aug 2024 |------------| Quizpectrum - A Quiz Competition\n",
      "15 Aug 2024 |------------| Industrial Visit for 5th Semester Students at Wanakbori Thermal Power Station and Ukai Hydro Power S\n",
      "13 Aug 2024 |------------| Expert Talk on \"The Joy of Sky Watching\"\n",
      "13 Aug 2024 |------------| Expert Talk on 'Universal Human Values (Be Unstoppable)'\n",
      "12 Aug 2024 |------------| Utsav - 2K24\n",
      "12 Aug 2024 |------------| Expert Talk on \"The Mathematical Backbone of Machine Learning : Deep Drive into Algorithms\"\n",
      "09 Aug 2024 |------------| Seminar on 'Synergizing Innovation with Graph and Group Theory in Computer Engineering'\n",
      "09 Aug 2024 |------------| Industrial Visit for 3rd Semester Students at Metflow Cast Pvt. Ltd., Shapar – Veraval, Rajkot\n",
      "09 Aug 2024 |------------| Industrial Visit for 3rd Semester Students at Creative Forge Pvt. Ltd. – Rajkot (Shapar Veraval)\n",
      "09 Aug 2024 |------------| Industrial Visit for 3rd Semester Students at Perfect Auto Cast, Shapar - Rajkot\n",
      "05 Aug 2024 |------------| Industrial Visit at Drive & Control System\n",
      "02 Aug 2024 |------------| Expert Talk on ABC's of Cyber Security\n",
      "22 Jul 2024 |------------| Expert Talk on “.NET Development”\n",
      "16 Jul 2024 |------------| One day Industrial Visit at GSECL Thermal Power Station, Sikka, Jamnagar\n",
      "15 Jul 2024 |------------| Industrial Visit at Sikka Thermal Power Station\n",
      "10 Jul 2024 |------------| 3rd semester diploma civil engineering students visited swaminarayan kanya gurukul construction site\n",
      "05 Jul 2024 |------------| DU Valorant Champions\n",
      "02 Jul 2024 |------------| Expert Talk on “Object Oriented Concepts”\n",
      "22 Jun 2024 |------------| One Week Training Program on Mechanical AutoCAD Software for 3rd Semester Students.\n",
      "22 Jun 2024 |------------| One Week Workshop on Recent Trends in CAD & Machine Technologies for 5th and 7th Semester Students\n",
      "28 Apr 2024 |------------| Expert Talk on \"Critical Thinking\"\n",
      "01 Apr 2024 |------------| 2nd Semester Diploma Mechanical Project Exhibition - 2024\n",
      "26 Mar 2024 |------------| Industrial Visit to ISRO, Ahmedabad\n",
      "23 Mar 2024 |------------| Sci - Pi 2024\n",
      "18 Mar 2024 |------------| 6th Semester Diploma Mechanical Project Exhibition - 2024\n",
      "14 Mar 2024 |------------| 24 Hours .NET HACKATHON on Code the Accounting Concepts in ASP.Net Core\n",
      "09 Mar 2024 |------------| Seminar on “Preparing for Success in the Job Market”\n",
      "02 Mar 2024 |------------| “Expert Lecture on “Fostering Student Seriousness Towards Life's Opportunities”\n",
      "01 Mar 2024 |------------| 4th Semester Diploma Mechanical Project Exhibition - 2024\n",
      "26 Feb 2024 |------------| Industrial Visit for 6th Semester Students at GWIL Pumping Station, Parle G and Adani Port.\n",
      "24 Feb 2024 |------------| Industrial Visit for 4th Semester Students at Kishan Autoparts Pvt. Ltd, Lodhika – Metoda, Rajkot.\n",
      "22 Feb 2024 |------------| Expert talk on Pillars of language Learning: LSRW\n",
      "20 Feb 2024 |------------| Seminar on \"How to be a QA Executive\"\n",
      "17 Feb 2024 |------------| 4th semester diploma civil students had performed tacheometry field survey at village Vijaynagar.\n",
      "12 Feb 2024 |------------| Industrial Visit at Harsha Engineers International Limited, Ahmedabad  & Warm Stream, Anand\n",
      "07 Feb 2024 |------------| Industrial Visit at Machchhu Dam-2, Morbi\n",
      "05 Feb 2024 |------------| Industrial Visit for 4th Semester Students at Innovative Mould Works - Rajkot\n",
      "05 Feb 2024 |------------| Industrial Visit for 6th Semester Students at Yantrang CNC Automation Pvt. Ltd., Rajkot\n",
      "05 Feb 2024 |------------| Achievement in state level science expo 2024 at christ college campus, Rajkot\n",
      "01 Feb 2024 |------------| Visit at Shantvan Nature Camp\n",
      "31 Jan 2024 |------------| 75th Republic Day\n",
      "29 Jan 2024 |------------| Expert Talk on \"Current practices in building planning\"\n",
      "29 Jan 2024 |------------| Appreciation to DHIR MEHTA (Diploma Civil) for securing GOLD MEDAL in GTU 13th Convocation-2024\n",
      "28 Jan 2024 |------------| Expert Talk on “Clean Code”\n",
      "10 Jan 2024 |------------| 12-Hours Hackathon\n",
      "10 Jan 2024 |------------| Expert talk on Industrial Interaction\n",
      "08 Jan 2024 |------------| BIS Essay Writing Competition on “BIS & Industrial Growth - Shaping the Manufacturing Landscape in I\n",
      "03 Jan 2024 |------------| Industrial visit at Adani Port-Mundra 6th semester\n"
     ]
    }
   ],
   "source": [
    "# show news data\n",
    "import requests\n",
    "import bs4\n",
    "\n",
    "req = requests.get(\"https://www.darshan.ac.in/news-post/list\");\n",
    "soup = bs4.BeautifulSoup(req.text, 'lxml');\n",
    "\n",
    "data = soup.select(\"body > main > div:nth-child(5) > div > div > div.col-lg-8.col-xl-9 > div.masonry-grid.row > div\");\n",
    "for d in data[1:]:\n",
    "  dt = d.select(\"li\");\n",
    "  title = d.select(\"h2\");\n",
    "  print(f\"{dt[0].text.strip()} |------------| {title[0].text.strip()}\");"
   ]
  },
  {
   "cell_type": "markdown",
   "metadata": {},
   "source": [
    "### 01) Write a Python program to perform web scrapping  from rajkot information technology association Website\n"
   ]
  },
  {
   "cell_type": "code",
   "execution_count": 7,
   "metadata": {},
   "outputs": [
    {
     "name": "stdout",
     "output_type": "stream",
     "text": [
      "23050136 |------------| 7Technosoft Solutions |------------| www.7technosoftsolutions.com\n",
      "19030089 |------------| AAROHI EMBEDDED SYSTEMS PVT. LTD. |------------| www.aarohies.com\n",
      "21100115 |------------| Ace Software Exports Limited |------------| www.acesoftex.com\n",
      "18120031 |------------| AEd-it Software |------------| www.aeditsoft.com\n",
      "24080028 |------------| Aiivine Pxl Pvt Ltd |------------| www.aiivine.com\n",
      "21110116 |------------| Amenity Technologies |------------| www.amenitytech.ai\n",
      "18120019 |------------| Appindia Technologies Private Limited |------------| www.appindia.net\n",
      "24090031 |------------| Bhaktee Software Pvt Ltd |------------| www.bsspl.com\n",
      "21100114 |------------| BITNET Infotech |------------| www.bitnetinfotech.com\n",
      "18120009 |------------| BMAC Infotech |------------| www.bmacinfotech.com\n",
      "24050021 |------------| Conversantech |------------| www.conversantech.com\n",
      "23060001 |------------| CORBITAL TECHNOLOGIES LLP |------------| www.corbitaltechnologies.com\n",
      "21070107 |------------| CraftBox Technology |------------| www.craftboxtechnology.com\n",
      "24090032 |------------| Cyber Security Protectors |------------| www.cyberprotectors.info\n",
      "24090030 |------------| CyberTech Shield LLC |------------| www.cybertechshield.us\n",
      "18120045 |------------| Cygner Technolabs Pvt. Ltd. |------------| www.cygner.net\n",
      "19010077 |------------| deckoid solution |------------| www.deckoidsolution.com\n",
      "19010062 |------------| Dsoft Infotech Pvt Ltd |------------| www.ornatesoftware.com\n",
      "24050018 |------------| eExpertz Technolabs |------------| www.eexpertz.com\n",
      "24070026 |------------| Encircle Technologies Private Limited |------------| www.encircletechnologies.com\n",
      "18120030 |------------| Eryushion Techsol Private Limited |------------| www.eryushion.com\n",
      "18120048 |------------| Flipworks Technology |------------| www.flipworkstechnology.com\n",
      "19050092 |------------| Forward Services |------------| www.forward.co.in\n",
      "23100016 |------------| Getz Business Technologies Private Limited |------------| www.getz.co.in\n",
      "18120006 |------------| GNWebSoft Pvt. Ltd. |------------| www.gnwebsoft.com\n",
      "18120008 |------------| Gtech Web Infotech Pvt.Ltd. |------------| www.gteches.com\n",
      "18120032 |------------| HASHKRIO TECH LLP |------------| www.hashkrio.com\n",
      "23060002 |------------| Hoch Technology |------------| www.hochtechnology.com\n",
      "24050023 |------------| iLearnME LLP |------------| www.ilearnme.com\n",
      "18120007 |------------| Impex Solutions |------------| www.impexsolutions.net\n",
      "18120027 |------------| Improwised Technologies Private Limited |------------| www.improwised.com\n",
      "18120010 |------------| INFINITY INFOWAY PVT LTD |------------| www.infinityinfoway.com\n",
      "24060024 |------------| Inlancer Technologies LLP |------------| www.inlancer.in\n",
      "23070013 |------------| INNOSYS GLOBAL PRIVATE LIMITED |------------| www.innosysg.in\n",
      "24060025 |------------| iSmart Solulab LLP |------------| www.ismartrecruit.com\n",
      "22050121 |------------| Justenable |------------| www.justenable.com\n",
      "19010063 |------------| Keshav Infotech |------------| www.keshavinfotech.com\n",
      "24090033 |------------| Krazio Cloud Private Limited |------------| www.kraziocloud.com\n",
      "18120040 |------------| Kuber Software Pvt. Ltd. |------------| www.kubererp.com\n",
      "21080110 |------------| Light Link Solutions |------------| www.lightlinksolutions.com\n",
      "22050120 |------------| Mangal Informatics |------------| www.discovermybusiness.com\n",
      "23080015 |------------| Marwadi Technologies Private Limited |------------| www.marwaditechnologies.com\n",
      "23120017 |------------| MILLIARD INFOTECH |------------| www.milliardinfotech.com\n",
      "22100128 |------------| Mindstien Technologies Private Limited |------------| www.mindstien.com\n",
      "18120018 |------------| MULTIICON IDEOTECHNOLOGY PVT LTD |------------| www.multiicon.in\n",
      "19070098 |------------| NetWorld |------------| www.visitnetworld.com\n",
      "18120052 |------------| Neurotech Inc |------------| www.neurotechinc.net\n",
      "23060006 |------------| Ngendev Technolabs |------------| www.ngendevtech.com\n",
      "18120017 |------------| NLite Webs Solution |------------| www.nlitewebs.com\n",
      "18120054 |------------| Nub Labs Private Limited |------------| www.nublabs.com\n",
      "22070127 |------------| Ozyus Technologies |------------| www.ozyus.com\n",
      "18120002 |------------| Param Software |------------| www.paramsoftware.com\n",
      "18120026 |------------| Param Web Designs |------------| www.paramwebdesigns.com\n",
      "24090034 |------------| PHANAS CORPORATION |------------| www.phanas.com\n",
      "18120001 |------------| PROMPT ERP LIMITED |------------| www.prompt.in\n",
      "21090112 |------------| Qtonz Infosoft Pvt Ltd |------------| www.qtonz.com\n",
      "23070010 |------------| Rao Information Technology |------------| www.raoinformationtechnology.com\n",
      "19020080 |------------| Repute Infosystems |------------| www.reputeinfosystems.com\n",
      "18120015 |------------| RK Infotech |------------| www.rkinfotechindia.com\n",
      "18120038 |------------| RKIT Software Pvt Ltd |------------| www.rkitsoftware.com\n",
      "24090036 |------------| Setu Consulting Services Pvt. Ltd. |------------| www.setuconsulting.com\n",
      "23060005 |------------| Social Circuits LLP |------------| www.socialcircuits.in\n",
      "24050022 |------------| SteadyWisdom TechnoLabs |------------| www.steadywisdomtech.com\n",
      "19040091 |------------| STP Web Hosting |------------| www.accuwebhosting.com\n",
      "24080029 |------------| Suhradam Software Incorporation |------------| www.ssinex.in\n",
      "23060003 |------------| Swat info system |------------| www.swatinfosystem.com\n",
      "24050020 |------------| Technosoft |------------| www.technosoftsols.com\n",
      "24090035 |------------| Technozions Pvt. Ltd. |------------| www.technozions.com\n",
      "22050122 |------------| TechXperts |------------| www.techxperts.co.in\n",
      "24050019 |------------| Teknovative Solution |------------| www.teknovativesolution.com\n",
      "19020084 |------------| TheAppGuruz |------------| www.theappguruz.com\n",
      "18120028 |------------| TheITWebCare |------------| www.theitwebcare.com\n",
      "22050125 |------------| Toxcore Solutions |------------| www.toxcore.com\n",
      "18120011 |------------| Version Systems Pvt. Ltd. |------------| www.factohr.com\n",
      "18120033 |------------| Vispan Solutions Pvt Ltd |------------| www.vispansolutions.com\n",
      "23070012 |------------| WAVE18 TECHNOLOGIES |------------| www.wave18.in\n",
      "18120053 |------------| Ways Software |------------| www.wayssoftware.com\n",
      "23050137 |------------| WebPlanex InfoTech Pvt. Ltd. |------------| www.webplanex.com\n",
      "18120014 |------------| websmith solutions |------------| www.websmithsolution.com\n",
      "18120037 |------------| Werkeez Solutions Pvt. Ltd. |------------| www.werkeez.com\n",
      "23030132 |------------| Whiznic Solutions |------------| www.whiznicsolutions.com\n",
      "20050105 |------------| Wings Tech Solutions Pvt. Ltd |------------| www.wingstechsolutions.com\n",
      "23070008 |------------| Wisdomlogix Solutions Pvt Ltd |------------| www.wisdomlogix.com\n"
     ]
    }
   ],
   "source": [
    "req = requests.get('https://ritaindia.org/Member')\n",
    "soup = bs4.BeautifulSoup(req.text, 'lxml');\n",
    "\n",
    "data = soup.select(\"body > section.team.pb-0 > div > div:nth-child(2) > div > div > table\")\n",
    "data = data[0].select(\"tr\")\n",
    "for d in data[1:]:\n",
    "  dt = d.select(\"td\");\n",
    "  print(f\"{dt[0].text.strip()} |------------| {dt[1].text.strip()} |------------| {dt[2].text.strip()}\");"
   ]
  }
 ],
 "metadata": {
  "kernelspec": {
   "display_name": "Python 3 (ipykernel)",
   "language": "python",
   "name": "python3"
  },
  "language_info": {
   "codemirror_mode": {
    "name": "ipython",
    "version": 3
   },
   "file_extension": ".py",
   "mimetype": "text/x-python",
   "name": "python",
   "nbconvert_exporter": "python",
   "pygments_lexer": "ipython3",
   "version": "3.12.4"
  }
 },
 "nbformat": 4,
 "nbformat_minor": 4
}
