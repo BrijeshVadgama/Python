{
 "cells": [
  {
   "cell_type": "markdown",
   "metadata": {},
   "source": [
    "<a href='https://www.darshan.ac.in/'> <img src='https://www.darshan.ac.in/Content/media/DU_Logo.svg' width=\"250\" height=\"300\"/></a>\n",
    "<pre>\n",
    "<center><b><h1>PDS - 2305CS303</b></center>\n",
    "<center><b><h1>Lab - 2</b></center>    \n",
    "<pre>"
   ]
  },
  {
   "cell_type": "markdown",
   "metadata": {},
   "source": [
    "### Name : Brijesh Rajeshbhai Vadgama\r\n",
    "\r\n",
    "### Enrollment No. : 23030501065"
   ]
  },
  {
   "cell_type": "markdown",
   "metadata": {},
   "source": []
  },
  {
   "cell_type": "markdown",
   "metadata": {},
   "source": [
    "# if..else.."
   ]
  },
  {
   "cell_type": "markdown",
   "metadata": {},
   "source": [
    "### 01) WAP to check whether the given number is positive or negative."
   ]
  },
  {
   "cell_type": "code",
   "execution_count": 5,
   "metadata": {},
   "outputs": [
    {
     "name": "stdin",
     "output_type": "stream",
     "text": [
      "Enter Number:  3\n"
     ]
    },
    {
     "name": "stdout",
     "output_type": "stream",
     "text": [
      "3 is Positive\n"
     ]
    }
   ],
   "source": [
    "no = int(input(\"Enter Number: \"))\n",
    "\n",
    "if no > 0:\n",
    "    print(f\"{no} is Positive\")\n",
    "elif no < 0:\n",
    "    print(f\"{no} is Negative\")\n",
    "else:\n",
    "    print(\"Number is Zero\")"
   ]
  },
  {
   "cell_type": "markdown",
   "metadata": {},
   "source": [
    "### 02) WAP to check whether the given number is odd or even"
   ]
  },
  {
   "cell_type": "code",
   "execution_count": 7,
   "metadata": {},
   "outputs": [
    {
     "name": "stdin",
     "output_type": "stream",
     "text": [
      "Enter Number:  2\n"
     ]
    },
    {
     "name": "stdout",
     "output_type": "stream",
     "text": [
      "2 is Even\n"
     ]
    }
   ],
   "source": [
    "no = int(input(\"Enter Number: \"))\n",
    "\n",
    "if no % 2 == 0:\n",
    "    print(f\"{no} is Even\")\n",
    "else:\n",
    "    print(f\"{no} is Odd\")"
   ]
  },
  {
   "cell_type": "markdown",
   "metadata": {},
   "source": [
    "### 03) WAP to find out largest number from given two numbers using simple if and ternary operator."
   ]
  },
  {
   "cell_type": "code",
   "execution_count": 9,
   "metadata": {},
   "outputs": [
    {
     "name": "stdin",
     "output_type": "stream",
     "text": [
      "Enter Number 1:  20\n",
      "Enter Number 2:  10\n"
     ]
    },
    {
     "name": "stdout",
     "output_type": "stream",
     "text": [
      "20 is large\n"
     ]
    }
   ],
   "source": [
    "no1 = int(input(\"Enter Number 1: \"))\n",
    "no2 = int(input(\"Enter Number 2: \"))\n",
    "\n",
    "# simple if\n",
    "\n",
    "# if no1 > no2:\n",
    "#     print(f\"{no1} is large\")\n",
    "# else:\n",
    "#     print(f\"{no2} is large\")\n",
    "\n",
    "# using ternary operator\n",
    "\n",
    "large = print(f\"{no1} is largest\") if no1 > no2 else print(f\"{no2} is largest\")\n",
    "    "
   ]
  },
  {
   "cell_type": "markdown",
   "metadata": {},
   "source": [
    "### 04) WAP to find out largest number from given three numbers."
   ]
  },
  {
   "cell_type": "code",
   "execution_count": 10,
   "metadata": {},
   "outputs": [
    {
     "name": "stdin",
     "output_type": "stream",
     "text": [
      "Enter Number 1:  10\n",
      "Enter Number 2:  20\n",
      "Enter Number 3:  30\n"
     ]
    },
    {
     "name": "stdout",
     "output_type": "stream",
     "text": [
      "30 is largest\n"
     ]
    }
   ],
   "source": [
    "no1 = int(input(\"Enter Number 1: \"))\n",
    "no2 = int(input(\"Enter Number 2: \"))\n",
    "no3 = int(input(\"Enter Number 3: \"))\n",
    "\n",
    "if no1 > no2:\n",
    "    if no1 > no3:\n",
    "        print(f\"{no1} is largest\")\n",
    "    else:\n",
    "        print(f\"{no3} is largest\")\n",
    "else:\n",
    "    if no2 > no3:\n",
    "        print(f\"{no2} is largest\")\n",
    "    else:\n",
    "        print(f\"{no3} is largest\")\n"
   ]
  },
  {
   "cell_type": "markdown",
   "metadata": {},
   "source": [
    "### 05) WAP to check whether the given year is leap year or not.\n",
    "[If a year can be divisible by 4 but not divisible by 100 then it is leap year but if it is divisible by 400 then it is leap year]"
   ]
  },
  {
   "cell_type": "code",
   "execution_count": 11,
   "metadata": {},
   "outputs": [
    {
     "name": "stdin",
     "output_type": "stream",
     "text": [
      "Enter Year:  2024\n"
     ]
    },
    {
     "name": "stdout",
     "output_type": "stream",
     "text": [
      "2024 is leap year\n"
     ]
    }
   ],
   "source": [
    "year = int(input(\"Enter Year: \"))\n",
    "\n",
    "if (year % 4 == 0 and year % 100 != 0) or (year % 400 == 0):\n",
    "    print(f\"{year} is leap year\")\n",
    "else:\n",
    "    print(f\"{year} is not leap year\")\n"
   ]
  },
  {
   "cell_type": "markdown",
   "metadata": {},
   "source": [
    "### 06) WAP in python to display the name of the day according to the number given by the user"
   ]
  },
  {
   "cell_type": "code",
   "execution_count": 12,
   "metadata": {},
   "outputs": [
    {
     "name": "stdin",
     "output_type": "stream",
     "text": [
      "Enter Number to Print Day:  1\n"
     ]
    },
    {
     "name": "stdout",
     "output_type": "stream",
     "text": [
      "Sunday\n"
     ]
    }
   ],
   "source": [
    "no = int(input(\"Enter Number to Print Day: \"))\n",
    "\n",
    "if no == 1:\n",
    "    print(\"Sunday\")\n",
    "elif no == 2:\n",
    "    print(\"Monday\")\n",
    "elif no == 3:\n",
    "    print(\"Tuesday\")\n",
    "elif no == 4:\n",
    "    print(\"Wednesday\")\n",
    "elif no == 5:\n",
    "    print(\"Thursday\")\n",
    "elif no == 6:\n",
    "    print(\"Friday\")\n",
    "elif no == 7:\n",
    "    print(\"Saturday\")\n"
   ]
  },
  {
   "cell_type": "markdown",
   "metadata": {},
   "source": [
    "### 07) WAP to implement simple calculator which performs (add,sub,mul,div) of two no. based on user input."
   ]
  },
  {
   "cell_type": "code",
   "execution_count": 3,
   "metadata": {},
   "outputs": [
    {
     "name": "stdin",
     "output_type": "stream",
     "text": [
      "Enter Number 1:  20\n",
      "Enter Number 2:  10\n"
     ]
    },
    {
     "name": "stdout",
     "output_type": "stream",
     "text": [
      "\n",
      "1. Addition\n",
      "2. Subtraction\n",
      "3. Multiplication\n",
      "4. Division\n"
     ]
    },
    {
     "name": "stdin",
     "output_type": "stream",
     "text": [
      "Enter Your Choice:  1\n"
     ]
    },
    {
     "name": "stdout",
     "output_type": "stream",
     "text": [
      "\n",
      "---------- Using If Else ----------\n",
      "Addition is: 30\n",
      "\n",
      "---------- Using Match Case ----------\n",
      "Addition is: 30\n"
     ]
    }
   ],
   "source": [
    "no1 = int(input(\"Enter Number 1: \"))\n",
    "no2 = int(input(\"Enter Number 2: \"))\n",
    "\n",
    "print(\"\\n1. Addition\\n2. Subtraction\\n3. Multiplication\\n4. Division\")\n",
    "choice = int(input(\"Enter Your Choice: \"))\n",
    "\n",
    "print(\"\\n---------- Using If Else ----------\")\n",
    "\n",
    "if choice == 1:\n",
    "    print(f\"Addition is: {no1 + no2}\")\n",
    "elif choice == 2: \n",
    "    print(f\"Subtraction is: {no1 - no2}\")\n",
    "elif choice == 3:\n",
    "    print(f\"Multiplication is: {no1 * no2}\")\n",
    "elif choice == 4:\n",
    "    if no2 == 0:\n",
    "          print(\"\\nCannot Divide By Zero\")\n",
    "    else:\n",
    "        print(f\"Division is: {no1 / no2}\")\n",
    "else:\n",
    "    print(\"Invalid Choice\")\n",
    "\n",
    "print(\"\\n---------- Using Match Case ----------\")\n",
    "\n",
    "match choice:\n",
    "    case 1:\n",
    "        print(f\"Addition is: {no1 + no2}\")\n",
    "    case 2:\n",
    "        print(f\"Subtraction is: {no1 - no2}\")\n",
    "    case 3:\n",
    "        print(f\"Multiplication is: {no1 * no2}\")\n",
    "    case 4:\n",
    "        if no2 == 0:\n",
    "          print(\"\\nERROR! - Cannot Divide By Zero\")\n",
    "        else:\n",
    "            print(f\"Division is: {no1 / no2}\")\n",
    "    case _:\n",
    "        print(\"Invalid Choice\")"
   ]
  },
  {
   "cell_type": "markdown",
   "metadata": {},
   "source": [
    "### 08) WAP to calculate electricity bill based on following criteria. Which takes the unit from the user.\n",
    "a. First 1 to 50 units – Rs. 2.60/unit</br>\n",
    "b. Next 50 to 100 units – Rs. 3.25/unit</br>\n",
    "c. Next 100 to 200 units – Rs. 5.26/unit</br>\n",
    "d. above 200 units – Rs. 8.45/unit"
   ]
  },
  {
   "cell_type": "code",
   "execution_count": 26,
   "metadata": {},
   "outputs": [
    {
     "name": "stdin",
     "output_type": "stream",
     "text": [
      "Enter units:  500\n"
     ]
    },
    {
     "name": "stdout",
     "output_type": "stream",
     "text": [
      "Bill is: 3090.50\n"
     ]
    }
   ],
   "source": [
    "unit = float(input(\"Enter units: \"))\n",
    "bill = 0\n",
    "\n",
    "if unit >= 1 and unit < 50:\n",
    "    bill = unit * 2.60\n",
    "elif unit >= 50 and unit < 100:\n",
    "    bill = (50 * 2.60) + (unit - 50) * 3.25\n",
    "elif unit >= 100 and unit <= 200:\n",
    "    bill = (50 * 2.60) + (50 * 3.25) + (unit - 100) * 5.26\n",
    "elif unit > 200:\n",
    "    bill = (50 * 2.60) + (50 * 3.25) + (50 * 5.26) + (unit-200) * 8.45\n",
    "\n",
    "print(f\"Bill is: {bill:.2f}\")"
   ]
  },
  {
   "cell_type": "code",
   "execution_count": null,
   "metadata": {},
   "outputs": [],
   "source": []
  },
  {
   "cell_type": "code",
   "execution_count": 15,
   "metadata": {},
   "outputs": [
    {
     "name": "stdin",
     "output_type": "stream",
     "text": [
      "Enter a:  1\n",
      "Enter b:  2\n",
      "Enter c:  1\n"
     ]
    },
    {
     "name": "stdout",
     "output_type": "stream",
     "text": [
      "\n",
      "d: 0.00\n",
      "root is: -1.0\n"
     ]
    }
   ],
   "source": [
    "# Extra-1: WAP to check roots of ax^2 + bx + c\n",
    "\n",
    "a = int(input(\"Enter a: \"))\n",
    "b = int(input(\"Enter b: \"))\n",
    "c = int(input(\"Enter c: \"))\n",
    "\n",
    "d = (b * b) - (4 * a * c)\n",
    "d = d**0.5 # root\n",
    "print(f\"\\nd: {d:.2f}\")\n",
    "if d == 0:\n",
    "    root = (-b + d)/(2*a)\n",
    "    print(f\"root is: {root}\")\n",
    "else:\n",
    "    root1 = (-b + d) / (2 * a)\n",
    "    root2 = (-b - d) / (2 * a)\n",
    "    print(f\"root1: {root1:.2f}\\nroot2: {root2:.2f}\")\n"
   ]
  },
  {
   "cell_type": "code",
   "execution_count": null,
   "metadata": {},
   "outputs": [],
   "source": []
  },
  {
   "cell_type": "code",
   "execution_count": 6,
   "metadata": {},
   "outputs": [
    {
     "name": "stdin",
     "output_type": "stream",
     "text": [
      "Enter Number:  126\n"
     ]
    },
    {
     "name": "stdout",
     "output_type": "stream",
     "text": [
      "6 number is divisible by 2\n"
     ]
    }
   ],
   "source": [
    "# Extra-2: WAP to check whether last digit of number is divisible by 2 or not\n",
    "\n",
    "no1 = int(input(\"Enter Number: \"))\n",
    "last = no1 % 10\n",
    "\n",
    "if last != 0:\n",
    "    if last % 2 == 0:\n",
    "        print(f\"{last} number is divisible by 2\")\n",
    "    else:\n",
    "        print(f\"{last} number is not divisible by 2\")\n",
    "else:\n",
    "    print(\"Last Digit is Zero\")"
   ]
  }
 ],
 "metadata": {
  "kernelspec": {
   "display_name": "Python 3 (ipykernel)",
   "language": "python",
   "name": "python3"
  },
  "language_info": {
   "codemirror_mode": {
    "name": "ipython",
    "version": 3
   },
   "file_extension": ".py",
   "mimetype": "text/x-python",
   "name": "python",
   "nbconvert_exporter": "python",
   "pygments_lexer": "ipython3",
   "version": "3.12.4"
  }
 },
 "nbformat": 4,
 "nbformat_minor": 4
}
