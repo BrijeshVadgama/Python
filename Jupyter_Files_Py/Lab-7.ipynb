{
 "cells": [
  {
   "cell_type": "markdown",
   "metadata": {},
   "source": [
    "<a href='https://www.darshan.ac.in/'> <img src='https://www.darshan.ac.in/Content/media/DU_Logo.svg' width=\"250\" height=\"300\"/></a>\n",
    "<pre>\n",
    "<center><b><h1>2305CS303 - Python for Data Science</b></center>\n",
    "<center><b><h1>Lab - 7</b></center>    \n",
    "<pre>"
   ]
  },
  {
   "cell_type": "markdown",
   "metadata": {},
   "source": [
    "### Name : Brijesh Rajeshbhai Vadgama\r\n",
    "\r\n",
    "### Enrollment No. : 23030501065"
   ]
  },
  {
   "cell_type": "markdown",
   "metadata": {},
   "source": []
  },
  {
   "cell_type": "markdown",
   "metadata": {},
   "source": [
    "# Functions"
   ]
  },
  {
   "cell_type": "markdown",
   "metadata": {},
   "source": [
    "### 01) WAP to count simple interest using function."
   ]
  },
  {
   "cell_type": "code",
   "execution_count": 1,
   "metadata": {},
   "outputs": [
    {
     "name": "stdout",
     "output_type": "stream",
     "text": [
      "Enter Principal:  1000\n",
      "Enter Rate of Interest:  5\n",
      "Enter Time in Years:  2\n"
     ]
    },
    {
     "name": "stdout",
     "output_type": "stream",
     "text": [
      "Simple Interest: 100.0\n"
     ]
    }
   ],
   "source": [
    "def calculate_SI(p, r, n):\n",
    "    si = (p * r * n) / 100\n",
    "    return si\n",
    "\n",
    "p = float(input(\"Enter Principal: \"))\n",
    "r = float(input(\"Enter Rate of Interest: \"))\n",
    "n = float(input(\"Enter Time in Years: \"))\n",
    "\n",
    "ans = calculate_SI(p, r, n)\n",
    "\n",
    "print(f\"Simple Interest: {ans}\")"
   ]
  },
  {
   "cell_type": "markdown",
   "metadata": {},
   "source": [
    "### 02) WAP that defines a function to add first n numbers."
   ]
  },
  {
   "cell_type": "code",
   "execution_count": 5,
   "metadata": {},
   "outputs": [
    {
     "name": "stdout",
     "output_type": "stream",
     "text": [
      "The sum of first 5 numbers is: 15\n"
     ]
    }
   ],
   "source": [
    "def add_numbers(n):\n",
    "    result = 0\n",
    "    for i in range(1, n + 1):\n",
    "        result += i\n",
    "    return result\n",
    "\n",
    "\n",
    "n = int(input(\"Enter a number: \"))\n",
    "sum = add_numbers(n)\n",
    "print(f\"The sum of first {n} numbers is: {sum}\")"
   ]
  },
  {
   "cell_type": "markdown",
   "metadata": {},
   "source": [
    "### 03) WAP to find maximum number from given two numbers using function."
   ]
  },
  {
   "cell_type": "code",
   "execution_count": 4,
   "metadata": {},
   "outputs": [
    {
     "name": "stdin",
     "output_type": "stream",
     "text": [
      "Enter a number 1:  10\n",
      "Enter a number 2:  20\n"
     ]
    },
    {
     "name": "stdout",
     "output_type": "stream",
     "text": [
      "Max Number is 20\n"
     ]
    }
   ],
   "source": [
    "def max(a,b):\n",
    "    if(a > b):\n",
    "        return a\n",
    "    else:\n",
    "        return b\n",
    "\n",
    "n1 = int(input(\"Enter a number 1: \"))\n",
    "n2 = int(input(\"Enter a number 2: \"))\n",
    "maxNo = max(n1,n2)\n",
    "print(f\"Max Number is {maxNo}\")"
   ]
  },
  {
   "cell_type": "markdown",
   "metadata": {},
   "source": [
    "### 04) WAP that defines a function which returns 1 if the number is prime otherwise return 0."
   ]
  },
  {
   "cell_type": "code",
   "execution_count": 3,
   "metadata": {},
   "outputs": [
    {
     "name": "stdin",
     "output_type": "stream",
     "text": [
      "Enter number:  5\n"
     ]
    },
    {
     "name": "stdout",
     "output_type": "stream",
     "text": [
      "1\n"
     ]
    }
   ],
   "source": [
    "def prime(n):\n",
    "    for i in range(2,n):\n",
    "        if(n % i == 0):\n",
    "            return 0\n",
    "    else:\n",
    "        return 1\n",
    "    \n",
    "n = int(input(\"Enter number: \"))\n",
    "ans = prime(n)\n",
    "if ans == 1:\n",
    "    print(\"1\")\n",
    "else:\n",
    "    print(\"0\")"
   ]
  },
  {
   "cell_type": "markdown",
   "metadata": {},
   "source": [
    "### 05) Write a function called primes that takes an integer value as an argument and returns a list of all prime numbers up to that number."
   ]
  },
  {
   "cell_type": "code",
   "execution_count": 20,
   "metadata": {},
   "outputs": [
    {
     "name": "stdout",
     "output_type": "stream",
     "text": [
      "Prime : [2, 3, 5, 7]\n"
     ]
    }
   ],
   "source": [
    "def primes(n):\n",
    "    l = []\n",
    "    for i in range(2, n + 1):\n",
    "        if prime(i) == 1:\n",
    "            l.append(i)\n",
    "    return l\n",
    "\n",
    "\n",
    "n = int(input(\"Enter Number : \"))\n",
    "print(f\"Prime : {primes(n)}\")"
   ]
  },
  {
   "cell_type": "markdown",
   "metadata": {},
   "source": [
    "### 06) WAP to generate Fibonacci series of N given number using function name fibbo. (e.g. 0 1 1 2 3 5 8...)"
   ]
  },
  {
   "cell_type": "code",
   "execution_count": 15,
   "metadata": {},
   "outputs": [
    {
     "name": "stdout",
     "output_type": "stream",
     "text": [
      "Fibonacci Series: [0, 1, 1, 2, 3, 5, 8]\n"
     ]
    }
   ],
   "source": [
    "def fibo(n):\n",
    "    fib_series = []\n",
    "    a, b = 0, 1\n",
    "    while a <= n:\n",
    "        fib_series.append(a)\n",
    "        a, b = b, a + b\n",
    "    return fib_series\n",
    "\n",
    "n = int(input(\"Enter number to Print Fibonacci Series: \"))\n",
    "ans = fibo(n)\n",
    "print(f\"Fibonacci Series: {ans}\")\n"
   ]
  },
  {
   "cell_type": "markdown",
   "metadata": {},
   "source": [
    "### 07) WAP to find the factorial of a given number using recursion."
   ]
  },
  {
   "cell_type": "code",
   "execution_count": 11,
   "metadata": {},
   "outputs": [
    {
     "name": "stdout",
     "output_type": "stream",
     "text": [
      "Factorial of 5 = 120\n"
     ]
    }
   ],
   "source": [
    "def factorial(n):\n",
    "    if n == 0:\n",
    "        return 1\n",
    "    else:\n",
    "        return n * factorial(n - 1)\n",
    "    \n",
    "n = int(input(\"Enter Number: \"))\n",
    "ans = factorial(n)\n",
    "print(f\"Factorial of {n} = {ans}\")"
   ]
  },
  {
   "cell_type": "markdown",
   "metadata": {},
   "source": [
    "### 08) WAP to implement simple calculator using lamda function."
   ]
  },
  {
   "cell_type": "code",
   "execution_count": 14,
   "metadata": {},
   "outputs": [
    {
     "name": "stdout",
     "output_type": "stream",
     "text": [
      "20 + 10 = 30\n",
      "20 - 10 = 10\n",
      "20 * 10 = 200\n",
      "20 / 10 = 2.0\n"
     ]
    }
   ],
   "source": [
    "addition = lambda n1, n2: n1 + n2\n",
    "subtraction = lambda n1, n2: n1 - n2\n",
    "multiplication = lambda n1, n2: n1 * n2\n",
    "division = lambda n1, n2: n1 / n2 if n2 != 0 else \"Cannot Divide By Zero\"\n",
    "\n",
    "n1 = int(input(\"Enter Number 1: \"))\n",
    "n2 = int(input(\"Enter Number 2: \"))\n",
    "\n",
    "print(f\"{n1} + {n2} = {addition(n1,n2)}\")\n",
    "print(f\"{n1} - {n2} = {subtraction(n1,n2)}\")\n",
    "print(f\"{n1} * {n2} = {multiplication(n1,n2)}\")\n",
    "print(f\"{n1} / {n2} = {division(n1,n2)}\")"
   ]
  },
  {
   "cell_type": "markdown",
   "metadata": {},
   "source": [
    "### 09)Write a Python program that accepts a hyphen-separated sequence of words as input and prints the words in a hyphen-separated sequence after sorting them alphabetically\n",
    "Sample Items : green-red-yellow-black-white <br>\n",
    "Expected Result : black-green-red-white-yellow"
   ]
  },
  {
   "cell_type": "code",
   "execution_count": 7,
   "metadata": {},
   "outputs": [
    {
     "name": "stdin",
     "output_type": "stream",
     "text": [
      "Enter Hyphen Seperated Values:  green-red-yellow-black-white\n"
     ]
    },
    {
     "name": "stdout",
     "output_type": "stream",
     "text": [
      "Values After Sorting: black-green-red-white-yellow\n"
     ]
    }
   ],
   "source": [
    "s = input(\"Enter Hyphen Seperated Values: \")\n",
    "word = s.split(\"-\")\n",
    "word.sort()\n",
    "sortedValues = \"-\".join(word)\n",
    "print(f\"Values After Sorting: {sortedValues}\")"
   ]
  },
  {
   "cell_type": "markdown",
   "metadata": {},
   "source": [
    "### 10) Write a python program to implement all function arguments type\n",
    "Positional arguments <Br>\n",
    "Default argument <Br>\n",
    "Keyword arguments (named arguments) <Br>\n",
    "Arbitrary arguments (variable-length arguments args and kwargs)"
   ]
  },
  {
   "cell_type": "code",
   "execution_count": 9,
   "metadata": {},
   "outputs": [
    {
     "name": "stdout",
     "output_type": "stream",
     "text": [
      "Positional Value of 1st argument 10\n",
      "Positional Value of 2nd argument 20\n",
      "\n",
      "\n",
      "Default Value of 1st argument 10\n",
      "Default Value of 2nd argument 20\n",
      "\n",
      "\n",
      "Keyword Value of 1st argument 10\n",
      "Keyword`Value of 2nd argument 20\n",
      "\n",
      "\n",
      "Arbitory Value 10,20,30,40,50 "
     ]
    }
   ],
   "source": [
    "# positional arguments\n",
    "def positional(n1, n2):\n",
    "    print(f\"Positional Value of 1st argument {n1}\")\n",
    "    print(f\"Positional Value of 2nd argument {n2}\")\n",
    "\n",
    "positional(10,20)\n",
    "\n",
    "print(\"\\n\")\n",
    "\n",
    "# default argument\n",
    "def default(n1,n2=20):\n",
    "    print(f\"Default Value of 1st argument {n1}\")\n",
    "    print(f\"Default Value of 2nd argument {n2}\")\n",
    "default(10)\n",
    "\n",
    "print(\"\\n\")\n",
    "\n",
    "# keyword argument\n",
    "def keyword(n1, n2):\n",
    "    print(f\"Keyword Value of 1st argument {n1}\")\n",
    "    print(f\"Keyword Value of 2nd argument {n2}\")\n",
    "\n",
    "keyword(n1=10, n2=20)\n",
    "\n",
    "print(\"\\n\")\n",
    "\n",
    "# arbitory argument\n",
    "def arbitory(*a):\n",
    "    for i in a:\n",
    "        print(i, end=\" \")\n",
    "\n",
    "arbitory(\"Arbitory Value 10,20,30,40,50\")"
   ]
  },
  {
   "cell_type": "code",
   "execution_count": null,
   "metadata": {},
   "outputs": [],
   "source": []
  },
  {
   "cell_type": "markdown",
   "metadata": {},
   "source": [
    "### 01) WAP to calculate power of a number using recursion."
   ]
  },
  {
   "cell_type": "code",
   "execution_count": 18,
   "metadata": {},
   "outputs": [
    {
     "name": "stdout",
     "output_type": "stream",
     "text": [
      "5 Power 3 = 125\n"
     ]
    }
   ],
   "source": [
    "def power(n,p):\n",
    "    if p == 0:\n",
    "        return 1\n",
    "    else:\n",
    "        return n * power(n, p - 1)\n",
    "\n",
    "n = int(input(\"Enter base number: \"))\n",
    "p = int(input(\"Enter power: \"))\n",
    "result = power(n, p)\n",
    "print(f\"{n} Power {p} = {result}\")"
   ]
  },
  {
   "cell_type": "markdown",
   "metadata": {},
   "source": [
    "### 02) WAP to count digits of a number using recursion."
   ]
  },
  {
   "cell_type": "code",
   "execution_count": 19,
   "metadata": {},
   "outputs": [
    {
     "name": "stdout",
     "output_type": "stream",
     "text": [
      "Total Digit in 52364 is 5\n"
     ]
    }
   ],
   "source": [
    "def countDigit(n):\n",
    "    if n == 0:\n",
    "        return 0\n",
    "    else:\n",
    "        return 1 + countDigit(n // 10)\n",
    "\n",
    "n = int(input(\"Enter a number: \"))\n",
    "digitCount = countDigit(abs(n))\n",
    "print(f\"Total Digit in {n} is {digitCount}\")"
   ]
  },
  {
   "cell_type": "markdown",
   "metadata": {},
   "source": [
    "### 03) WAP to reverse an integer number using recursion."
   ]
  },
  {
   "cell_type": "code",
   "execution_count": 22,
   "metadata": {},
   "outputs": [
    {
     "name": "stdout",
     "output_type": "stream",
     "text": [
      "The reversed of 153 is 351\n"
     ]
    }
   ],
   "source": [
    "def revNum(num, rev=0):\n",
    "    if num == 0:\n",
    "        return rev\n",
    "    else:\n",
    "        return revNum(num // 10, rev * 10 + num % 10)\n",
    "\n",
    "\n",
    "num = int(input(\"Enter a number: \"))\n",
    "result = revNum(abs(num))\n",
    "if num < 0:\n",
    "    result = -result\n",
    "print(f\"The reversed of {num} is {result}\")"
   ]
  },
  {
   "cell_type": "markdown",
   "metadata": {},
   "source": [
    "### 04) WAP to convert decimal number into binary using recursion."
   ]
  },
  {
   "cell_type": "code",
   "execution_count": 5,
   "metadata": {},
   "outputs": [
    {
     "name": "stdin",
     "output_type": "stream",
     "text": [
      "Enter a decimal number:  10\n"
     ]
    },
    {
     "name": "stdout",
     "output_type": "stream",
     "text": [
      "The binary representation of 10 is 1010\n"
     ]
    }
   ],
   "source": [
    "def decimalToBinary(n):\n",
    "    if n == 0:\n",
    "        return \"\"\n",
    "    else:\n",
    "        return decimalToBinary(n // 2) + str(n % 2)\n",
    "\n",
    "\n",
    "num = int(input(\"Enter a decimal number: \"))\n",
    "if num == 0:\n",
    "    result = \"0\"\n",
    "else:\n",
    "    result = decimalToBinary(num)\n",
    "print(f\"The binary representation of {num} is {result}\")"
   ]
  }
 ],
 "metadata": {
  "kernelspec": {
   "display_name": "Python 3 (ipykernel)",
   "language": "python",
   "name": "python3"
  },
  "language_info": {
   "codemirror_mode": {
    "name": "ipython",
    "version": 3
   },
   "file_extension": ".py",
   "mimetype": "text/x-python",
   "name": "python",
   "nbconvert_exporter": "python",
   "pygments_lexer": "ipython3",
   "version": "3.12.4"
  }
 },
 "nbformat": 4,
 "nbformat_minor": 4
}
